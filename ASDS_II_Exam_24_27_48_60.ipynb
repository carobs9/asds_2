{
  "cells": [
    {
      "cell_type": "markdown",
      "metadata": {
        "id": "ZEtN7TeuamEj"
      },
      "source": [
        "<h1><center>ASDS II</center></h1>\n",
        "<h2><center>Social Data Science 2023 - Exam</center></h1>\n",
        "<h3><center>Exam numbers:  24 - 27 - 48  - 60 </center></h3>"
      ]
    },
    {
      "cell_type": "markdown",
      "source": [
        "All answers are written jointly by the group, and assigned exam numbers are arbitrary"
      ],
      "metadata": {
        "id": "SNIwKmJcUxlc"
      }
    },
    {
      "cell_type": "markdown",
      "metadata": {
        "id": "YDPV8kjpb61c"
      },
      "source": [
        "# Table of Contents\n"
      ]
    },
    {
      "cell_type": "markdown",
      "metadata": {
        "id": "jYiaUMj_axPU"
      },
      "source": [
        "<h2>&emsp;<a href=\"#1\">Part 1: Measuring grandstanding in parliaments</a></h2>\n",
        "<blockquote>\n",
        "    <h3>&emsp;&emsp;<a href=\"#1.1\">1.1. Justification (27)</a></h3>\n",
        "</blockquote>\n",
        "<blockquote>\n",
        "    <h3>&emsp;&emsp;<a href=\"#1.2\">1.2. ANEW Dictionary Augmentation (60)</a></h3>\n",
        "</blockquote>\n",
        "<blockquote>\n",
        "    <h3>&emsp;&emsp;<a href=\"#1.3\">1.3. Alternative Method (48)</a></h3>\n",
        "</blockquote>\n",
        "\n",
        "<h2>&emsp;<a href=\"#2\">Part 2: Detecting Harassment </a></h2>\n",
        "<blockquote>\n",
        "    <h3>&emsp;&emsp;<a href=\"#2.1\">2.1. Dictionary Method (24) </a></h3>\n",
        "</blockquote>\n",
        "<blockquote>\n",
        "    <h3>&emsp;&emsp;<a href=\"#2.2\">2.2. Topic Model (24) </a></h3>\n",
        "</blockquote>\n",
        "<blockquote>\n",
        "    <h3>&emsp;&emsp;<a href=\"#2.3\">2.3. Supervised Learning (60) </a></h3>\n",
        "</blockquote>\n",
        "\n",
        "<h2>&emsp;<a href=\"#3\">Part 3: Supervised Text Classification</a></h2>\n",
        "<blockquote>\n",
        "   <h3>&emsp;&emsp;<a href=\"#3.0\">3.0. Packages, data, functions and data transformation</a></h3>\n",
        "<blockquote>\n",
        "    <h4>&emsp;&emsp;<a href=\"#3.0.1.\">3.0.1.Packages (24, 27 48, 60) </a></h4>\n",
        "</blockquote>\n",
        "\n",
        "<blockquote>\n",
        "    <h4>&emsp;&emsp;<a href=\"#3.0.2.\">3.0.2.Data (24, 27 48, 60)</a></h4>\n",
        "</blockquote>\n",
        "\n",
        "<blockquote>\n",
        "    <h4>&emsp;&emsp;<a href=\"#3.0.3.\">3.0.3.Functions (24, 27 48, 60)</a></h4>\n",
        "</blockquote>\n",
        "<blockquote>\n",
        "    <h4>&emsp;&emsp;<a href=\"#3.0.4.\">3.0.4.Transforms Data (24, 27 48, 60)</a></h4>\n",
        "</blockquote>\n",
        "</blockquote>\n",
        "<blockquote>\n",
        "    <h3>&emsp;&emsp;<a href=\"#3.1\">3.1.BoW Models (48) </a></h3>\n",
        "\n",
        "\n",
        "<blockquote>\n",
        "    <h4>&emsp;&emsp;<a href=\"#3.1.1.\">3.1.1.Logistic Regression on Unprocessed Data</a></h4>\n",
        "</blockquote>\n",
        "\n",
        "<blockquote>\n",
        "    <h4>&emsp;&emsp;<a href=\"#3.1.2.\">3.1.2.Logistic Regression on Preprocessed Data</a></h4>\n",
        "</blockquote>\n",
        "\n",
        "<blockquote>\n",
        "    <h4>&emsp;&emsp;<a href=\"#3.1.3.\">3.1.3.SVC on Unprocessed Data</a></h4>\n",
        "</blockquote>\n",
        "\n",
        "<blockquote>\n",
        "    <h4>&emsp;&emsp;<a href=\"#3.1.4.\">3.1.4.SVC on Preprocessed Data</a></h4>\n",
        "</blockquote>\n",
        "\n",
        "<blockquote>\n",
        "    <h4>&emsp;&emsp;<a href=\"#3.1.5.\">3.1.5.Multinomial Naive Bayes on Unprocessed Data</a></h4>\n",
        "</blockquote>\n",
        "\n",
        "<blockquote>\n",
        "    <h4>&emsp;&emsp;<a href=\"#3.1.6.\">3.1.6.Multinomial Naive Bayes on Preprocessed Data</a></h4>\n",
        "</blockquote>\n",
        "</blockquote>\n",
        "\n",
        "<blockquote>\n",
        "    <h3>&emsp;&emsp;<a href=\"#3.2\">3.2.Deep Learning</a></h3>\n",
        "<blockquote>\n",
        "    <h4>&emsp;&emsp;<a href=\"#3.2.1.\">3.2.1.RNNs-LSTM Models (27)</a></h4>\n",
        "</blockquote>\n",
        "\n",
        "<blockquote>\n",
        "    <h4>&emsp;&emsp;<a href=\"#3.2.2.\">3.2.2.BERT fine-tuned (27)</a></h4>\n",
        "</blockquote>\n",
        "</blockquote>\n",
        "<blockquote>\n",
        "    <h3>&emsp;&emsp;<a href=\"#3.3\">3.3.Models Discussion (60) </a></h3>\n",
        "<blockquote>\n",
        "    <h4>&emsp;&emsp;<a href=\"#3.3.1.\">3.3.1.BoW</a></h4>\n",
        "</blockquote>\n",
        "<blockquote>\n",
        "    <h4>&emsp;&emsp;<a href=\"#3.3.2.\">3.3.2.Deep Learning (RNN-LSTM)</a></h4>\n",
        "</blockquote>\n",
        "<blockquote>\n",
        "    <h4>&emsp;&emsp;<a href=\"#3.3.3.\">3.3.3.Deep Learning (BERT)</a></h4>\n",
        "</blockquote>\n",
        "</blockquote>\n",
        "<blockquote>\n",
        "    <h3>&emsp;&emsp;<a href=\"#3.4\">3.4.Performance (27)</a></h3>\n",
        "</blockquote>\n",
        "<blockquote>\n",
        "    <h3>&emsp;&emsp;<a href=\"#3.5\">3.5.Discussion (48) </a></h3>\n",
        "</blockquote>\n",
        "\n",
        "<h2>&emsp;<a href=\"#4\">Part 4: Word Embeddings</a></h2>\n",
        "<blockquote>\n",
        "    <h3>&emsp;&emsp;<a href=\"#4.1\">4.1.Training (24)</a></h3>\n",
        "</blockquote>\n",
        "<blockquote>\n",
        "    <h3>&emsp;&emsp;<a href=\"#4.2\">4.2.Similarity (24)</a></h3>\n",
        "</blockquote>\n",
        "<blockquote>\n",
        "    <h3>&emsp;&emsp;<a href=\"#4.3\">4.3.Supervised Task (24)</a></h3>\n",
        "</blockquote>\n",
        "<blockquote>\n",
        "    <h3>&emsp;&emsp;<a href=\"#4.4\">4.4.Re-training (24)</a></h3>\n",
        "</blockquote>\n",
        "<blockquote>\n",
        "    <h3>&emsp;&emsp;<a href=\"#4.5\">4.5.Validation (60)</a></h3>\n",
        "</blockquote>\n",
        "<blockquote>\n",
        "\n",
        "<h2>&emsp;<a href=\"#References\">References</a></h2>\n",
        "<blockquote>"
      ]
    },
    {
      "cell_type": "markdown",
      "metadata": {
        "id": "ixhczgkZZV_O"
      },
      "source": [
        "<a name=\"1\"></a>\n",
        "\n",
        "# Part 1: Measuring Grandstanding in Parliaments"
      ]
    },
    {
      "cell_type": "markdown",
      "metadata": {
        "id": "Bq7_dRncZi5x"
      },
      "source": [
        "<a name=\"1.1\"></a>\n",
        "\n",
        "## 1.1. Justification"
      ]
    },
    {
      "cell_type": "markdown",
      "metadata": {
        "id": "3-ABdKhuZmUf"
      },
      "source": [
        "In regard to their research, the authors argue it was better to apply a dictionary-based approach instead of training a supervised learning model, for which they would have needed to manually annotate a subset of the speeches.\n",
        "\n",
        "First, using a dictionary-based approach allows the authors to score texts along the specific dimension of emotions (Hovy 1, p.38). Furthermore, it is more cost-effective, both time-wise and financially, especially as a dictionary containing emotional aspects already exists (Bradley and Lang, 1999). The Affective Norms for English Words (ANEW) is a freely available external source, which is additionally widely used and validated by the scientific community, strengthening the credibility of the paper. This also guarantees the reproducibility of their research. Given that ANEW contains complete, instead of stemmed words, it is easy to be augmented using word embedding techniques.\n",
        "\n",
        "There are only a few downsides of ANEW, both of which the authors seek solutions for. First, the dataset contains American English words, which needed to be changed to British English before being applied to the parliamentary debates in the UK. Second, due to the specificity of the field the authors want to apply to the dictionary, the vocabulary in the ANEW dictionary is not sufficient for the analysis of parliamentary debates. Therefore, the authors had to carry out additional steps to make ANEW applicable to the political vocabulary. To add context-specific words, as we will discuss later, they used word embedding techniques, through which they augmented the ANEW dictionary to apply for their specific research purpose.\n",
        "\n",
        "Instead of manually adding words, the authors use word embedding techniques to expand their vocabulary in a more systematic and transparent way. ANEW further contains the standard deviation on the emotional aspect of the words, which enables the authors to categorise them as emotional or neutral with high confidence.\n",
        "\n",
        "There are some weaknesses that the authors haven’t considered for a dictionary-based classifier, which is related to the context of the words. Even though some speeches contain similar frequencies of neutral and emotional words, the overall rhetoric could appeal to the emotion of the audience, and their score would not capture it as is based on counts. Furthermore, the context of the words could be a pitfall for the dictionary classifier because some neutral words could be used in different contexts.\n"
      ]
    },
    {
      "cell_type": "markdown",
      "metadata": {
        "id": "AEq-Eu9IZpkz"
      },
      "source": [
        "<a name=\"1.2\"></a>\n",
        "## 1.2. ANEW Dictionary Augmentation"
      ]
    },
    {
      "cell_type": "markdown",
      "metadata": {
        "id": "84R1jLkDZpk1"
      },
      "source": [
        "As mentioned before the ANEW dictionary is only covering a fraction of words in terms of the political context. To expand their vocabulary for their analysis, the authors use word embedding techniques. They first use their corpus of parliamentary speeches to build a skip-gram model. In parallel to that, they identify seed words extracted from the ANEW dictionary, differentiating 851 emotive and 970 neutral words. Here, they specifically focus on unambiguity regarding their emotional meaning by looking at ratings with low standard deviation in the ANEW dictionary. They furthermore adjust the spelling of the words to British English, to align them with their target context. However, we note that words might still have different connotations depending on whether they appear in an American context (such as the case for the ANEW dictionary) or in a British context (such as when they are used in the UK Parliament).\n",
        "\n",
        "After having prepared the embedding model, their next step is to calculate the emotive score for each word in the corpus based on their seed dictionary, using cosine similarity measures (as explained by Hovy 1, p. 39-40). To calculate the emotional meaning of a word, they simply subtract the sum of the words’ cosine similarities with the set of neutral words from the sum of the words’ cosine similarities with the set of emotive words. With that, they can identify the emotional meaning of words that the parliamentary corpus contains, but the ANEW dictionary doesn’t, enabling them systematically to compute the emotional score for all parliamentary speeches. As a result, the authors expanded their vocabulary to 2.015 emotive and 2.095 neutral words, which makes their subsequent research process much more grounded in the desired context.\n",
        "\n",
        "Sensing the critique of relying on arbitrarily defined dictionaries, OHR expanded a predefined one using word-embedding techniques, thus minimising human involvement, and therefore, human bias. The authors could conduct more reliable research by systematically augmenting the ANEW dictionary using word embedding techniques. Additionally, using a publicly available dictionary and word embedding algorithms instead of manually adding and annotating words made their research process reproducible and more credible. By using these methods, they can successfully identify the emotional meaning of speeches in the UK Parliament to observe their variance.\n"
      ]
    },
    {
      "cell_type": "markdown",
      "metadata": {
        "id": "oI9HQ-IJZsgK"
      },
      "source": [
        "<a name=\"1.3\"></a>\n",
        "## 1.3. Alternative Method"
      ]
    },
    {
      "cell_type": "markdown",
      "metadata": {
        "id": "H8vFfXtzZsgM"
      },
      "source": [
        "An alternative way, as the authors also mention, is to run a supervised learning model to adequately categorise the speeches as “emotional” or “neutral”. Nevertheless, we would need to label them manually, which is unfeasible for the current research. Reflecting on the main assumption of the researchers, that emotive rhetoric in parliament can be measured by the words of the speech, we propose a scaling method for measuring the unobserved rhetoric of speeches by the words of the political speeches.\n",
        "\n",
        "On one hand, Laver et al. (2003) suggest a supervised solution called “Word Scores” (Nanni et a.l, 2021). The approach would score individual words from a referenced set where the rhetoric, either neutral or emotional, is known. Based on the prevalence of words in the reference documents, the rest of the speeches are classified using the reference words. To have a strong Word Score model, it is crucial to use relevant reference texts as input, as the model would ignore the words that are not part of the reference set. Overall, the algorithm involves minimal human judgement, therefore minimising human bias with the exception of defining the reference texts, which arguably introduces human bias. It is furthermore easy to apply, given the algorithm has been shared by Laver et al. (2003). However, we found two pitfalls for this approach in the current research. First, the data is collected over a period of 19 years, and the words used in 2001 for appealing to emotion could be different than the words in 2019. That would mean making a sample of the reference set for each period of time and labelling these speeches as emotional or neutral could be unfeasible to the project budget. Second, identifying extreme cases of emotional and neutral cases could be a challenging task in this setting, involving a close reading of different texts. If on average, the speeches with higher audiences use more emotional words, it is not enough to use them as a reference set. The researcher should look into each type of speech (PMQs, Queen’s Speech debates, Ministerial Question Times, and Urgent Questions) for finding extreme cases of both neutral and emotive, which could again be impractical to the researcher’s limitations.\n",
        "\n",
        "To overcome its limitations, the “Wordfish” unsupervised methodology was suggested by Slapin and Proksch (2008) for measuring latent variables from the texts (Nanni et al., 2021). The statistical framework of Wordfish fits the current case as the researchers rely on the relation between the frequencies of emotional and neutral words with emotional rhetoric, which in this setting is the unobserved variable. In a nutshell, the frequency of each word in each speech is modelled by the frequency of words in the speech based on how frequently the word is used in other speeches, the relationship between the word and the emotional rhetoric, and the emotional rhetoric of the speech. In contrast to the Word Scores framework, the model allows the researcher to include the variation of time when modelling the number of words, allowing them to account for the time dynamics. The approach is also able to measure emotional rhetoric for each type of speech, but in contrast to the Word Scores, the researcher does not need to look at different cases by a close reading and labelling, but by making a model for each one. Moreover, the different parameters that are estimated by the model can be used for validating it. For example, it can be checked whether the words that are most frequently used in the speeches are relevant to measuring the association between emotive rhetoric and words.\n",
        "\n",
        "The model has three downsides to consider. First, it requires a lot of data because of the number of parameters that are being estimated. The absence of that could give the researcher unreliable estimations of the parameters and therefore, unreliable results on the scale of emotional rhetoric. Second, the model relies on the apriori distributions, and starting with the wrong distribution could lead to a model that does not converge in the estimation of parameters (Slapin & Proksch, 2008). Third, the model is more computationally expensive than the “Word Scores” and it could take a substantial amount of time to train in contrast to the flexible approach of Word Scores. Consequently, pondering the advantages and disadvantages of this particular problem, we suggest conducting the Wordfish algorithm for measuring emotive rhetoric in UK parliament debates because it covers most of the weaknesses of Word Scores by avoiding manual coding, which the authors emphasise as the main issue for using dictionary-based classifiers."
      ]
    },
    {
      "cell_type": "markdown",
      "metadata": {
        "id": "FlItKZebZWl_"
      },
      "source": [
        "<a name=\"2\"></a>\n",
        "# Part 2: Detecting Harassment"
      ]
    },
    {
      "cell_type": "markdown",
      "metadata": {
        "id": "tzD7hadzuTLC"
      },
      "source": [
        "### Intro\n",
        "\n",
        "Classifying harassment from a set of 100.000 emails from customers could protect the support team by filtering to them only the non-harassment emails. Computational tools such as dictionary-based classifiers, topic modelling, and supervised models could help to perform this task without having a person that has to closely read each of them. However, none of them would perform perfectly either by classifying wrongly harassment (False Positives), which could impact the goodwill of the company as non-harassment emails would not arrive to the support team, or by classifying wrongly the non-harassment (False Negative) as the support team would spend time on them which could affect the overall operation.\n"
      ]
    },
    {
      "cell_type": "markdown",
      "metadata": {
        "id": "gdGzK1rJZwRe"
      },
      "source": [
        "<a name=\"2.1\"></a>\n",
        "## 2.1. Dictionary Method"
      ]
    },
    {
      "cell_type": "markdown",
      "metadata": {
        "id": "3dtk5gx3ZwRg"
      },
      "source": [
        "The computationally cheapest of them is the dictionary method, where the emails would be classified according to a set of queries using words. Besides the (1) low computational costs, the advantages of dictionary-based classification in this scenario are (2) the “functionality of scoring texts along several dimensions, such as emotions or psychological traits” (Hovy 1, p.38). In addition, (3) the human reader can manually modify and add categories based on previous knowledge and understanding of a specific area of study, which might allow for better identification of harassment in this case.\n",
        "\n",
        "However, this approach would not be beneficial due to several reasons:\n",
        "\n",
        "(1) First, language is dynamic and continuously changing. Words that might identify a topic now might change over time or cultural aspects. Words that are right now related to harassment will be different within a few years, and each human reader might identify harassment differently, introducing bias to the model.\n",
        "\n",
        "(2) In addition, language is contextual, and specific queries might not capture this relational aspect. According to Hovy, manually created dictionaries will partially overlap with the topic of interest, hence providing high precision but low recall (Hovy 1, p. 38). In the case of harassment, a human annotator will be able to bring up harassment-related keywords and these will be successfully identified (high precision), but there will be many other keywords related to harassment that will not be identified, as the human coder has a limited capacity of bringing up keywords (low recall). Indeed, it has been proven that humans are not good at bringing up keywords (King, Lam and Roberts, 2017). King, Lam and Roberts also provide a computer-assisted framework to improve keyword search by training classifiers, extracting information from their mistakes instead of correcting it, and summarising the results with Boolean search strings (2017).\n"
      ]
    },
    {
      "cell_type": "markdown",
      "metadata": {
        "id": "r-bj3SGYZwRg"
      },
      "source": [
        "<a name=\"2.2\"></a>\n",
        "## 2.2. Topic Modelling"
      ]
    },
    {
      "cell_type": "markdown",
      "metadata": {
        "id": "Eicq0L7RZwRh"
      },
      "source": [
        "Topic modelling overcomes the researcher bias stemming from the manual selection of keywords in the dictionary-based method. Topic modelling based on Latent Dirichlet Allocation (LDA) assumes a latent word generation process behind the distribution of words in a document, where the co-occurrence of words is related to corresponding topics. Based on the output of a topic model, we can thus determine what topic corresponds to harassment based on the association between the words related to the topic. The model requires no prior information about corporate emails but instead relies on the probabilistic distribution of words to indicate the underlying main themes (Blei, 2012). However as the method is unsupervised, two potential problems emerge.\n",
        "\n",
        "First, there is no guarantee that harassment presents itself as a topic based on the LDA. Topic modelling is aimed at discovery, whereas this task in part presumes the presence of harassment in the data, which is not guaranteed. This highlights the conflict stemming from using an inductive method to solve a primarily deductive task. Additionally, even if harassment is present in the corpus itself, LDA may still fail in representing all topics especially if the topic sizes are unbalanced as noted by Carlsen and Ralund (2022). Thus if harassment is too uncommon in our corpus of emails, it may not necessarily appear as a discernible topic when the granularity is not high enough. We may mitigate this issue by increasing the parameter for K number of topics, but adjusting K and iteratively retraining until a topic related to harassment can be discerned raises concerns in terms of validity as it can be compared to the exploitation of p-hacking.\n",
        "\n",
        "Second, while the topic may appear as a result of LDA, the researcher’s role and influence are not eliminated. The topics will still require a level of interpretation to determine which set of words is related to harassment. We may report on the prevalence of harassment in the corpus of 100.000 emails. However introducing new emails will require retraining the model on the updated corpus, with the problems outlined so far being given an additional chance to emerge. A possible solution is to integrate the findings of the topic modelling (under the assumption that harassment is discernible as a topic) with other models. That involves the aforementioned dictionary-based method, where the words assigned by the LDA to the topic interpreted as harassment can be fed to a dictionary. It may also involve supervised learning.\n"
      ]
    },
    {
      "cell_type": "markdown",
      "metadata": {
        "id": "CtPlNn6vZwRh"
      },
      "source": [
        "<a name=\"2.3\"></a>\n",
        "## 2.3. Supervised Learning"
      ]
    },
    {
      "cell_type": "markdown",
      "metadata": {
        "id": "JhK2ti8VZwRi"
      },
      "source": [
        "In supervised learning, a small percentage of emails would be manually classified as harassment by human coders according to a defined codebook. In this context, the emails would be classified by workers that develop their experience and background in the company to interpret the texts and identify cases of harassment (GRS, 2022), which is one of the main advantages of them: words are interpreted in their context. They are also flexible in representing the text input differently, using countings, relative weights in contrast to the frequency of words of other emails (TF-IDF representation), or vectors using either the co-occurrence and context from other emails of the company or external to it (word embeddings). They could present probabilities so that the company could map the likelihood of harassment instead of mapping everything binarily. The number of available models could give the company a set of options for performing the classification task.\n",
        "\n",
        "There are some pitfalls to this approach. The amount of human involvement can have its disadvantages, as it can be extremely costly in terms of time and money for the company. Considering the amount of time that the process of labelling requires by making clear codebooks, training the coders, and evaluating the reliability of their evaluations, other priorities of the workers would be delayed in this process. In addition, the human coder can introduce biases and make mistakes due to the complexity, ambiguities, limited attention, and nuanced concepts faced during manual coding (GRS, 2022).\n"
      ]
    },
    {
      "cell_type": "markdown",
      "metadata": {
        "id": "J8loE_KoZW-9"
      },
      "source": [
        "<a name=\"3\"></a>\n",
        "# Part 3: Supervised Text Classification"
      ]
    },
    {
      "cell_type": "markdown",
      "metadata": {
        "id": "rNOsgnhnaDLt"
      },
      "source": [
        "<a name=\"3.0\"></a>\n",
        "## 3.0. Packages, Data, Functions and Transformation"
      ]
    },
    {
      "cell_type": "markdown",
      "metadata": {
        "id": "aFL2gQsTN26x"
      },
      "source": [
        "<a name=\"3.0.1.\"></a>\n",
        "\n",
        "###  3.0.1. Packages"
      ]
    },
    {
      "cell_type": "code",
      "execution_count": null,
      "metadata": {
        "id": "KPo7zPzVgB9A"
      },
      "outputs": [],
      "source": [
        "%%capture\n",
        "!pip install datasets==2.2.1 transformers==4.19.1"
      ]
    },
    {
      "cell_type": "code",
      "execution_count": null,
      "metadata": {
        "colab": {
          "background_save": true
        },
        "id": "KW1O1KO5Vx4x"
      },
      "outputs": [],
      "source": [
        "\n",
        "import warnings\n",
        "warnings.filterwarnings(\"ignore\")\n",
        "from IPython.display import clear_output\n",
        "import sys\n",
        "import os\n",
        "import datasets\n",
        "import re\n",
        "import string\n",
        "import nltk\n",
        "import pandas as pd\n",
        "nltk.download('wordnet', quiet=True)\n",
        "nltk.download('stopwords', quiet=True)\n",
        "nltk.download('punkt', quiet=True)\n",
        "nltk.download('averaged_perceptron_tagger', quiet=True)\n",
        "from nltk.tokenize import TweetTokenizer\n",
        "from nltk.corpus import stopwords\n",
        "from nltk.stem import WordNetLemmatizer\n",
        "from nltk import word_tokenize, pos_tag\n",
        "from nltk.corpus import wordnet\n",
        "from collections import defaultdict\n",
        "from sklearn.feature_extraction.text import TfidfVectorizer, CountVectorizer\n",
        "import torch\n",
        "\n",
        "from datasets import load_metric\n",
        "import gensim.downloader\n",
        "import numpy as np\n",
        "from transformers import pipeline, Trainer, TrainingArguments\n",
        "from transformers import AutoTokenizer, AutoModelForSequenceClassification\n",
        "\n",
        "# Models\n",
        "from sklearn.linear_model import LogisticRegression\n",
        "from sklearn.model_selection import cross_val_score, GridSearchCV, StratifiedKFold\n",
        "from sklearn.svm import SVC, LinearSVC\n",
        "from sklearn.naive_bayes import MultinomialNB\n",
        "from sklearn.metrics import accuracy_score, f1_score\n",
        "from sklearn.metrics import confusion_matrix, recall_score, precision_score\n",
        "from sklearn.metrics import classification_report\n",
        "from sklearn.metrics import confusion_matrix\n",
        "\n",
        "import random\n",
        "torch.manual_seed(42)\n",
        "random.seed(42)\n",
        "np.random.seed(42)\n",
        "clear_output()"
      ]
    },
    {
      "cell_type": "markdown",
      "metadata": {
        "id": "zL81GsX9N262"
      },
      "source": [
        "<a name=\"3.0.2.\"></a>\n",
        "\n",
        "### 3.0.2. Data"
      ]
    },
    {
      "cell_type": "code",
      "execution_count": null,
      "metadata": {
        "id": "yPkgQeZrZRAk"
      },
      "outputs": [],
      "source": [
        "hate_train = datasets.load_dataset('tweet_eval', 'hate', split='train')\n",
        "hate_val = datasets.load_dataset('tweet_eval', 'hate', split='validation')\n",
        "hate_test = datasets.load_dataset('tweet_eval', 'hate', split='test')\n",
        "clear_output()"
      ]
    },
    {
      "cell_type": "markdown",
      "metadata": {
        "id": "GFhJsjKGN264"
      },
      "source": [
        "<a name=\"3.0.3.\"></a>\n",
        "\n",
        "### 3.0.3. Functions"
      ]
    },
    {
      "cell_type": "code",
      "execution_count": null,
      "metadata": {
        "id": "58wF0n8kfXoi"
      },
      "outputs": [],
      "source": [
        "def preprocess(text, mode = None):\n",
        "\n",
        "    #Lowercasing words\n",
        "    text = text.lower()\n",
        "\n",
        "    #Removing '&amp' which was found to be common\n",
        "    text = re.sub(r'&amp','', text)\n",
        "\n",
        "    #Replace other instances of \"&\" with \"and\"\n",
        "    text = re.sub(r'&','and', text)\n",
        "\n",
        "    #Removing mentions\n",
        "    text = re.sub(r'@\\w+ ', '', text)\n",
        "\n",
        "    #Removing 'RT' and 'via'\n",
        "    text = re.sub(r'(^rt|^via)((?:\\b\\W*@\\w+)+): ', '', text)\n",
        "\n",
        "    #Removing punctuation\n",
        "    #Using the module string to define what punctuation we want removed\n",
        "    my_punctuation = string.punctuation.replace('#','')\n",
        "    my_punctuation = my_punctuation.replace('-','')\n",
        "    my_punctuation = my_punctuation+'’“”—'\n",
        "    # Text is \"translated\" to not include the punctuation we defined\n",
        "    text = text.translate(str.maketrans('', '', my_punctuation))\n",
        "\n",
        "    #Removing odd special characters\n",
        "    #removing dash lines bounded by whitespace (and therefore not part of a word)\n",
        "    text = re.sub(r' - ','', text)\n",
        "    text = re.sub(r\"[┻┃━┳┓┏┛┗]\",\"\", text)\n",
        "    text = re.sub(r\"\\u202F|\\u2069|\\u200d|\\u2066\",\"\", text)\n",
        "\n",
        "    #Removing URLs\n",
        "    text = re.sub(r'http\\S+', '', text)\n",
        "\n",
        "    #Removing numbers\n",
        "    text = re.sub(r'[0-9]','', text)\n",
        "\n",
        "    #Tokenizing (separators and superfluous whitespace are also removed during tokenization)\n",
        "    tokenizer = TweetTokenizer()\n",
        "    text = tokenizer.tokenize(text)\n",
        "\n",
        "    if mode == \"lem\":\n",
        "      lemmatizer = WordNetLemmatizer()\n",
        "      tag_map = defaultdict(lambda : wordnet.NOUN)  #If nothing else is specified, use noun tag\n",
        "      tag_map['J'] = wordnet.ADJ\n",
        "      tag_map['V'] = wordnet.VERB\n",
        "      tag_map['R'] = wordnet.ADV\n",
        "      #Lemmatizing each word in the sentence with list comprehension\n",
        "      text_lemmatized = [lemmatizer.lemmatize(word, tag_map[tag[0]]) for\n",
        "                         word, tag in pos_tag(text)]\n",
        "      #Notice above that we choose tag[0] to get all instances of a word class,\n",
        "      #e.g. NN (noun) and NP (proper noun) should both translate to noun.\n",
        "\n",
        "      text = ' '.join(text_lemmatized)\n",
        "\n",
        "    return text"
      ]
    },
    {
      "cell_type": "markdown",
      "metadata": {
        "id": "N2WmIyHEN268"
      },
      "source": [
        "<a name=\"3.0.4.\"></a>\n",
        "\n",
        "### 3.0.4. Transform Data"
      ]
    },
    {
      "cell_type": "code",
      "execution_count": null,
      "metadata": {
        "id": "ZZ7mfQWXflWd"
      },
      "outputs": [],
      "source": [
        "# create corpus objects\n",
        "for part in [\"train\",\"val\",\"test\"]:\n",
        "  globals()[part+\"_corpus\"] = [x['text'] for x in globals()[\"hate_\"+part]]\n",
        "  globals()[part+\"_corpus_lem\"] = [preprocess(x, \"lem\") for x in globals()[part+\"_corpus\"]]\n",
        "  globals()[part+\"_labels\"] = [x['label'] for x in globals()[\"hate_\"+part]]"
      ]
    },
    {
      "cell_type": "code",
      "execution_count": null,
      "metadata": {
        "id": "9nzeOYR4aXhV"
      },
      "outputs": [],
      "source": [
        "# vectorizing the corpuses\n",
        "vectorizer = TfidfVectorizer()\n",
        "for part in [\"train\",\"val\",\"test\"]:\n",
        "  if part == \"train\":\n",
        "    globals()[part+\"_features\"] = vectorizer.fit_transform(globals()[part+\"_corpus\"])\n",
        "  else:\n",
        "    globals()[part+\"_features\"] = vectorizer.transform(globals()[part+\"_corpus\"])\n",
        "\n",
        "feature_names = vectorizer.get_feature_names_out()\n",
        "\n",
        "# vectorizing the lemmatized corpuses\n",
        "vectorizer = TfidfVectorizer()\n",
        "for part in [\"train\",\"val\",\"test\"]:\n",
        "  if part == \"train\":\n",
        "    globals()[part+\"_features_lem\"] = vectorizer.fit_transform(globals()[part+\"_corpus_lem\"])\n",
        "  else:\n",
        "    globals()[part+\"_features_lem\"] = vectorizer.transform(globals()[part+\"_corpus_lem\"])\n",
        "\n",
        "feature_names_lem = vectorizer.get_feature_names_out()"
      ]
    },
    {
      "cell_type": "markdown",
      "metadata": {
        "id": "1AvMlf8_Z0XT"
      },
      "source": [
        "<a name=\"3.1\"></a>\n",
        "## 3.1. BoW Models"
      ]
    },
    {
      "cell_type": "markdown",
      "metadata": {
        "id": "Z9SrbanNN26-"
      },
      "source": [
        "<a name=\"3.1.1.\"></a>\n",
        "\n",
        "### 3.1.1. Logistic Regression on Unprocessed Data"
      ]
    },
    {
      "cell_type": "code",
      "execution_count": null,
      "metadata": {
        "id": "R3lub1dmN26-"
      },
      "outputs": [],
      "source": [
        "param_grid = {'C': [ 1, 9, 9.1, 9.2, 9.3, 9.4, 9.5, 9.6,\n",
        "                    9.7, 9.8, 10, 10.5, 11]} # best param = 9\n",
        "lr_grid = GridSearchCV(LogisticRegression(penalty=\"l2\", max_iter=1000),\n",
        "                       param_grid, cv=5, n_jobs=-1)\n",
        "lr_grid.fit(train_features, train_labels)\n",
        "lr_test_preds = lr_grid.best_estimator_.predict(test_features)\n",
        "\n",
        "results = {\"Accuracy\":dict(),\"F1 score\":dict(),\"Precision\":dict(), \"Recall\":dict()}\n",
        "results[\"Accuracy\"][\"LR\"] = accuracy_score(test_labels, lr_test_preds)\n",
        "results[\"F1 score\"][\"LR\"] = f1_score(test_labels, lr_test_preds, average=\"macro\")"
      ]
    },
    {
      "cell_type": "markdown",
      "metadata": {
        "id": "dl6AQhrgN26_"
      },
      "source": [
        "<a name=\"3.1.2.\"></a>\n",
        "\n",
        "### 3.1.2. Logistic Regression on Preprocessed Data"
      ]
    },
    {
      "cell_type": "code",
      "execution_count": null,
      "metadata": {
        "id": "QNKm2J3gN26_"
      },
      "outputs": [],
      "source": [
        "param_grid = {'C': [0.001, 0.01, 0.1, 0.5, 0.8, 1, 1.01,\n",
        "                    1.02, 1.03, 1.1, 1.2, 1.5, 2, 2.001, 2.002, 2.1]} # best param = 2.002\n",
        "lr_grid = GridSearchCV(LogisticRegression(penalty=\"l2\"), param_grid,\n",
        "                       cv=5, n_jobs=-1, scoring='precision')\n",
        "lr_grid.fit(train_features_lem, train_labels)\n",
        "lr_test_preds_lem = lr_grid.best_estimator_.predict(test_features_lem)\n",
        "\n",
        "results[\"Accuracy\"][\"LR_lem\"] = accuracy_score(test_labels, lr_test_preds_lem)\n",
        "results[\"F1 score\"][\"LR_lem\"] = f1_score(test_labels, lr_test_preds_lem, average=\"macro\")\n"
      ]
    },
    {
      "cell_type": "markdown",
      "metadata": {
        "id": "Tz7_28YXN26_"
      },
      "source": [
        "<a name=\"3.1.3.\"></a>\n",
        "### 3.1.3. Linear SVC on Unprocessed Data"
      ]
    },
    {
      "cell_type": "code",
      "execution_count": null,
      "metadata": {
        "id": "fMfbeS3_N27A"
      },
      "outputs": [],
      "source": [
        "linearSVC = LinearSVC()\n",
        "linearSVC_score = cross_val_score(LinearSVC(), train_features, train_labels,\n",
        "                                  cv=StratifiedKFold(n_splits=5), scoring=\"accuracy\", n_jobs=-1)\n",
        "param_grid = {'C': [0.001, 0.01, 0.1, 0.15, 0.2, 0.3, 0.4, 0.5, 0.6, 0.7,\n",
        "                    0.8, 0.9, 1, 1.001, 1.002, 1.003, 1.1, 10]} # best param = 0.5\n",
        "linearSVC_grid = GridSearchCV(LinearSVC(), param_grid, cv=5, n_jobs=-1, scoring='precision')\n",
        "linearSVC_grid.fit(train_features, train_labels)\n",
        "\n",
        "linearSVC_test_preds = linearSVC_grid.best_estimator_.predict(test_features)\n",
        "results[\"Accuracy\"][\"SVC\"] = accuracy_score(test_labels, linearSVC_test_preds)\n",
        "results[\"F1 score\"][\"SVC\"] = f1_score(test_labels, linearSVC_test_preds, average=\"macro\")\n"
      ]
    },
    {
      "cell_type": "markdown",
      "metadata": {
        "id": "3xKZ-0uyN27A"
      },
      "source": [
        "<a name=\"3.1.4.\"></a>\n",
        "### 3.1.4. Linear SVC on Preprocessed Data"
      ]
    },
    {
      "cell_type": "code",
      "execution_count": null,
      "metadata": {
        "id": "ktFFzrvUN27A"
      },
      "outputs": [],
      "source": [
        "linearSVC_score_lem = cross_val_score(LinearSVC(), train_features_lem, train_labels,\n",
        "                                      cv=StratifiedKFold(n_splits=5),\n",
        "                                      scoring=\"accuracy\", n_jobs=-1)\n",
        "param_grid = {'C': [0.001, 0.01, 0.02, 0.03, 0.05, 0.07, 0.09, 0.1,\n",
        "                    0.11, 0.12, 0.15, 0.2, 0.3, 1, 10]} # best param = 0.3\n",
        "linearSVC_grid = GridSearchCV(LinearSVC(), param_grid, cv=5, n_jobs=-1,\n",
        "                              scoring='precision')\n",
        "linearSVC_grid.fit(train_features_lem, train_labels)\n",
        "\n",
        "linearSVC_test_preds_lem = linearSVC_grid.best_estimator_.predict(test_features_lem)\n",
        "results[\"Accuracy\"][\"SVC_lem\"] = accuracy_score(test_labels, linearSVC_test_preds_lem)\n",
        "results[\"F1 score\"][\"SVC_lem\"] = f1_score(test_labels, linearSVC_test_preds_lem, average=\"macro\")"
      ]
    },
    {
      "cell_type": "markdown",
      "metadata": {
        "id": "LaGLs2BHN27B"
      },
      "source": [
        "<a name=\"3.1.5.\"></a>\n",
        "### 3.1.5. Multinomial Naive Bayes on Unprocessed Data"
      ]
    },
    {
      "cell_type": "code",
      "execution_count": null,
      "metadata": {
        "id": "aK9cfIzIN27B"
      },
      "outputs": [],
      "source": [
        "count_vectorizer = CountVectorizer()\n",
        "train_features_count = count_vectorizer.fit_transform(train_corpus)\n",
        "val_features_count = count_vectorizer.transform(val_corpus)\n",
        "test_features_count = count_vectorizer.transform(test_corpus)\n",
        "\n",
        "nb = MultinomialNB()\n",
        "nb_score = cross_val_score(nb, train_features_count.toarray(), train_labels,\n",
        "                           cv=StratifiedKFold(n_splits=5), scoring=\"precision\", verbose=2)\n",
        "nb.fit(train_features_count.toarray(), train_labels)\n",
        "\n",
        "nb_test_preds = nb.predict(test_features_count.toarray())\n",
        "results[\"Accuracy\"][\"NB\"] = accuracy_score(test_labels, nb_test_preds)\n",
        "results[\"F1 score\"][\"NB\"] = f1_score(test_labels, nb_test_preds, average=\"macro\")\n",
        "clear_output()"
      ]
    },
    {
      "cell_type": "markdown",
      "metadata": {
        "id": "nSvo84TYN27B"
      },
      "source": [
        "<a name=\"3.1.6.\"></a>\n",
        "### 3.1.6. Multinomial Naive Bayes on Preprocessed Data"
      ]
    },
    {
      "cell_type": "code",
      "execution_count": null,
      "metadata": {
        "id": "c8o_8rwPN27B"
      },
      "outputs": [],
      "source": [
        "train_features_count_lem = count_vectorizer.fit_transform(train_corpus_lem)\n",
        "val_features_count_lem = count_vectorizer.transform(val_corpus_lem)\n",
        "test_features_count_lem = count_vectorizer.transform(test_corpus_lem)\n",
        "\n",
        "nb = MultinomialNB()\n",
        "nb_score_lem = cross_val_score(nb, train_features_count_lem.toarray(),\n",
        "                               train_labels, cv=StratifiedKFold(n_splits=5),\n",
        "                               scoring=\"precision\", verbose=2)\n",
        "nb.fit(train_features_count_lem.toarray(), train_labels)\n",
        "\n",
        "nb_test_preds_lem = nb.predict(test_features_count_lem.toarray())\n",
        "results[\"Accuracy\"][\"NB_lem\"] = accuracy_score(test_labels, nb_test_preds_lem)\n",
        "results[\"F1 score\"][\"NB_lem\"] = f1_score(test_labels, nb_test_preds_lem, average=\"macro\")\n",
        "clear_output()"
      ]
    },
    {
      "cell_type": "markdown",
      "metadata": {
        "id": "Fo9CTIjq3O6i"
      },
      "source": [
        "<a name=\"3.2\"></a>\n",
        "## 3.2. Deep Learning"
      ]
    },
    {
      "cell_type": "markdown",
      "metadata": {
        "id": "uhsRptVdZ0XV"
      },
      "source": [
        "<a name=\"3.2.1.\"></a>\n",
        "\n",
        "### 3.2.1 RNN-LSTM Models"
      ]
    },
    {
      "cell_type": "code",
      "execution_count": null,
      "metadata": {
        "colab": {
          "base_uri": "https://localhost:8080/"
        },
        "id": "1EisTL4Bdexw",
        "outputId": "c121d0e3-5d4e-4e59-8b13-293368bdd6ff"
      },
      "outputs": [
        {
          "name": "stdout",
          "output_type": "stream",
          "text": [
            "[==================================================] 100.0% 758.5/758.5MB downloaded\n",
            "29.538035413987533 % of tokens are out of vocabulary\n",
            "Model accuracy: 0.49797979797979797\n",
            "Model accuracy: 0.4946127946127946\n",
            "Model accuracy: 0.5060606060606061\n",
            "Model accuracy: 0.48922558922558923\n"
          ]
        }
      ],
      "source": [
        "# defining the vocabulary based on tokens in the train and val sets\n",
        "total_vocabulary = set()\n",
        "for tweet in train_corpus + val_corpus:\n",
        "    tokens = TweetTokenizer().tokenize(tweet)\n",
        "    for t in tokens:\n",
        "        total_vocabulary.add(t.lower())\n",
        "total_vocabulary = sorted(list(total_vocabulary))\n",
        "total_vocabulary = [\"\"]+total_vocabulary\n",
        "\n",
        "\n",
        "def create_embedding_matrix(tokens, embedding):\n",
        "    \"\"\"creates an embedding matrix from pre-trained embeddings for a new vocabulary.\n",
        "    It also adds an extra vector\n",
        "    vector of zeroes in row 0 to embed the padding token, and initializes\n",
        "    missing tokens as vectors of 0s\"\"\"\n",
        "    oov = set()\n",
        "    size = embedding.vector_size\n",
        "\n",
        "    embedding_matrix=np.zeros((len(tokens),size))\n",
        "    c = 0\n",
        "    for i in range(1,len(tokens)):\n",
        "        try:\n",
        "            embedding_matrix[i]=embedding[tokens[i]]\n",
        "        except KeyError: #to catch the words missing in the embeddings\n",
        "            try:\n",
        "                embedding_matrix[i]=embedding[tokens[i].lower()]\n",
        "            except KeyError:\n",
        "                #if the token does not have an embedding, we initialize it as a vector of 0s\n",
        "                embedding_matrix[i] = np.zeros(size)\n",
        "                #we keep track of the out of vocabulary tokens\n",
        "                oov.add(tokens[i])\n",
        "                c +=1\n",
        "    print(f'{c/len(tokens)*100} % of tokens are out of vocabulary')\n",
        "    return embedding_matrix, oov\n",
        "\n",
        "# load the pretrained embeddings for twitter data\n",
        "glove = gensim.downloader.load('glove-twitter-200')\n",
        "\n",
        "#get the embedding matrix for our tweet_eval vocabulary\n",
        "embedding_matrix, oov = create_embedding_matrix(total_vocabulary, glove)\n",
        "\n",
        "def text_to_indices(text, total_vocabulary):\n",
        "    \"\"\"turns the input text (one tweet) into a vector of indices in\n",
        "    total_vocabulary that corresponds to the tokenized words in the input text\"\"\"\n",
        "    encoded_text = []\n",
        "    tokens = word_tokenize(text)\n",
        "    for t in tokens:\n",
        "        try:\n",
        "            index = total_vocabulary.index(t.lower())\n",
        "            encoded_text.append(index)\n",
        "        except:\n",
        "            continue\n",
        "    return encoded_text\n",
        "\n",
        "def add_padding(vector, max_length, padding_index):\n",
        "    \"\"\"adds copies of the padding token to make the input vector\n",
        "    the max_length size, so that all inputs are the same length\n",
        "    (the length of tweet with most words)\"\"\"\n",
        "    if len(vector) < max_length:\n",
        "        vector = [padding_index for _ in range(max_length-len(vector))] + vector\n",
        "    return vector\n",
        "\n",
        "class TweetEvalTrain(torch.utils.data.Dataset):\n",
        "    # defining the sources of the data\n",
        "    def __init__(self, features, labels):\n",
        "        self.X = torch.LongTensor(features)\n",
        "        self.y = torch.from_numpy(np.array(labels)).type(torch.LongTensor)\n",
        "\n",
        "    def __getitem__(self, index):\n",
        "        X = self.X[index]\n",
        "        y = self.y[index].unsqueeze(0)\n",
        "        return X, y\n",
        "\n",
        "    def __len__(self):\n",
        "        return len(self.y)\n",
        "\n",
        "# converting the tokens to indices (so its machine readable)\n",
        "for part in [\"train\",\"val\",\"test\"]:\n",
        "  globals()[part+\"_features\"] = [text_to_indices(x, total_vocabulary)\n",
        "  for x in globals()[part+\"_corpus\"]]\n",
        "\n",
        "# padding the feature vectors in each split\n",
        "longest_tweet = max(train_features+val_features, key=len)\n",
        "max_length = len(longest_tweet)\n",
        "padding_index = 0\n",
        "\n",
        "for part in [\"train\",\"val\",\"test\"]:\n",
        "  globals()[part+\"_features\"] = [add_padding(x, max_length, padding_index)\n",
        "  for x in globals()[part+\"_features\"]]\n",
        "\n",
        "# setting up data loaders\n",
        "data_train = TweetEvalTrain(train_features, train_labels)\n",
        "data_val = TweetEvalTrain(val_features, val_labels)\n",
        "data_test = TweetEvalTrain(test_features, test_labels)\n",
        "\n",
        "for part in [\"train\",\"val\",\"test\"]:\n",
        "  globals()[part+\"_loader\"] = torch.utils.data.DataLoader(globals()[\"data_\"+part],\n",
        "                                                          batch_size = 64)\n",
        "\n",
        "def training_loop(model, num_epochs):\n",
        "    loss_function = torch.nn.CrossEntropyLoss()\n",
        "    optimizer = torch.optim.Adam(model.parameters(), lr=0.001)\n",
        "\n",
        "    for epoch in range(num_epochs):\n",
        "        losses = []\n",
        "        for batch_index, (inputs, targets) in enumerate(train_loader):\n",
        "\n",
        "            optimizer.zero_grad()\n",
        "            outputs = model(inputs).squeeze()\n",
        "            targets = targets.squeeze()\n",
        "            loss = loss_function(outputs, targets)\n",
        "            loss.backward()\n",
        "            optimizer.step()\n",
        "            losses.append(loss.item())\n",
        "\n",
        "    return model\n",
        "\n",
        "def evaluate(model, val_loader):\n",
        "    predictions = []\n",
        "    labels = []\n",
        "    with torch.no_grad():\n",
        "        for batch_index, (inputs, targets) in enumerate(val_loader):\n",
        "            outputs = torch.softmax(model(inputs), 1 )\n",
        "            vals, indices = torch.max(outputs, 1)\n",
        "            predictions += indices.tolist()\n",
        "            labels += targets.tolist()\n",
        "\n",
        "    acc = accuracy_score(predictions, labels)\n",
        "    print(f'Model accuracy: {acc}')\n",
        "    return acc, predictions\n",
        "\n",
        "# setting up the model object, whose architecture can be configured for either RNN or LSTM\n",
        "class RNN_or_LSTM(torch.nn.Module):\n",
        "    def __init__(self, rnn_size, n_classes, embedding_matrix, arch=\"RNN\"):\n",
        "        # initialize the model with a certain dimension of the RNN unit activations (this is rnn_size)\n",
        "        # and a certain number of output classes\n",
        "\n",
        "        super().__init__()\n",
        "        self.arch = arch # specify model type\n",
        "\n",
        "        #applying the embeddings to the inputs\n",
        "        self.embedding = torch.nn.Embedding.from_pretrained(\n",
        "            torch.FloatTensor(embedding_matrix), padding_idx=0, freeze=True)\n",
        "        emb_dim = embedding_matrix.shape[1]\n",
        "\n",
        "        if self.arch == \"RNN\":\n",
        "            self.rnn = torch.nn.RNN(input_size=emb_dim, hidden_size=rnn_size,\n",
        "                                    num_layers=1, batch_first=True)\n",
        "        else: #assumes self.arch == \"LSTM\":\n",
        "            self.rnn = torch.nn.LSTM(input_size=emb_dim, hidden_size=rnn_size,\n",
        "                                     bidirectional=False, num_layers=1, batch_first=True)\n",
        "        self.fc_logits = torch.nn.Linear(rnn_size, n_classes)\n",
        "\n",
        "    def forward(self, inputs):\n",
        "\n",
        "        # encode the input vectors\n",
        "        encoded_inputs = self.embedding(inputs)\n",
        "\n",
        "        #apply the RNN or LSTM\n",
        "        if self.arch == \"RNN\":\n",
        "            rnn_out, final_state = self.rnn(encoded_inputs)\n",
        "        else:\n",
        "            # slight difference in output of LSTM resulting in different assignment\n",
        "            rnn_out, (final_state, c_n) = self.rnn(encoded_inputs)\n",
        "\n",
        "        # run the final states through the output layer\n",
        "        outputs = self.fc_logits(final_state.squeeze())\n",
        "        return outputs\n",
        "\n",
        "# initializing the models and training them for 10 epochs\n",
        "RNN = RNN_or_LSTM(rnn_size=100, n_classes=2, embedding_matrix=embedding_matrix, arch = \"RNN\")\n",
        "LSTM = RNN_or_LSTM(rnn_size=100, n_classes=2, embedding_matrix=embedding_matrix, arch =\"LSTM\")\n",
        "\n",
        "RNN = training_loop(RNN, 10)\n",
        "rnn_acc, rnn_pred = evaluate(RNN, test_loader)\n",
        "\n",
        "LSTM = training_loop(LSTM, 10)\n",
        "\n",
        "lstm_acc, lstm_pred = evaluate(LSTM, test_loader)\n",
        "\n",
        "# initializing the models and training them for 10 epochs\n",
        "RNN = RNN_or_LSTM(rnn_size=100, n_classes=2, embedding_matrix=embedding_matrix, arch = \"RNN\")\n",
        "LSTM = RNN_or_LSTM(rnn_size=100, n_classes=2, embedding_matrix=embedding_matrix, arch =\"LSTM\")\n",
        "\n",
        "RNN = training_loop(RNN, 10)\n",
        "LSTM = training_loop(LSTM, 10)\n",
        "\n",
        "for model in [\"RNN\", \"LSTM\"]:\n",
        "  acc, pred = evaluate(globals()[model], test_loader)\n",
        "  results[\"Accuracy\"][model] = acc\n",
        "  results[\"F1 score\"][model] = f1_score(test_labels, pred, average=\"macro\")"
      ]
    },
    {
      "cell_type": "markdown",
      "metadata": {
        "id": "zoWgfLrzZ0XW"
      },
      "source": [
        "<a name=\"3.2.2.\"></a>\n",
        "\n",
        "### 3.2.2 BERT fine-tuned"
      ]
    },
    {
      "cell_type": "code",
      "execution_count": null,
      "metadata": {
        "id": "MTvlZQ0hhdIv"
      },
      "outputs": [],
      "source": [
        "# library\n",
        "\n",
        "# gpu name\n",
        "device = \"cuda:0\" if torch.cuda.is_available() else \"cpu\"\n",
        "# name of the pretrained model\n",
        "bert_name = 'prajjwal1/bert-medium'\n",
        "# bert tokenizer is special (wordpiece)\n",
        "bert_tokenizer = AutoTokenizer.from_pretrained(bert_name)\n",
        "# function for tokenize each text\n",
        "def bert_tokenize(dataset):\n",
        "  return bert_tokenizer(dataset['text'])\n",
        "# apply bert tokenizer to the texts\n",
        "bert_tokenized_train_dataset = hate_train.map(bert_tokenize,batched=True)\n",
        "bert_tokenized_val_dataset =  hate_val.map(bert_tokenize,batched=True)\n",
        "# get the pre-train model to fine-tunning with two possible outputs\n",
        "bert_model_fine_tune = AutoModelForSequenceClassification.from_pretrained(bert_name, num_labels=2)\n",
        "# move to GPU\n",
        "bert_model_fine_tune.to(device)\n",
        "# path to save the arguments\n",
        "output_dir_ = \"path/to/output/directory\"\n",
        "# define the arguments of the model\n",
        "training_args = TrainingArguments(num_train_epochs=3,\n",
        "                                  per_device_train_batch_size=8,\n",
        "                                  output_dir=output_dir_,\n",
        "                                  logging_steps=500)\n",
        "# evaluation metrics model\n",
        "metric_f1 = load_metric(\"f1\")\n",
        "metric_acc = load_metric(\"accuracy\")\n",
        "def compute_metrics(eval_pred):\n",
        "  outputs, labels = eval_pred\n",
        "  predictions = np.argmax(outputs, axis=-1)\n",
        "  f1 = metric_f1.compute(predictions=predictions, references=labels)\n",
        "  acc = metric_acc.compute(predictions=predictions, references=labels)\n",
        "  return f1 | acc\n",
        "\n",
        "# define trainer to train the model\n",
        "trainer = Trainer(model=bert_model_fine_tune,\n",
        "                  args=training_args,\n",
        "                  compute_metrics=compute_metrics,\n",
        "                  train_dataset=bert_tokenized_train_dataset,\n",
        "                  eval_dataset=bert_tokenized_val_dataset,\n",
        "                  tokenizer=bert_tokenizer)\n",
        "# train the model\n",
        "trainer.train()\n",
        "\n",
        "# Run evaluation\n",
        "evaluation_results = trainer.evaluate()\n",
        "\n",
        "# Get accuracy from the evaluation results\n",
        "accuracy = evaluation_results[\"eval_accuracy\"]\n",
        "\n",
        "\n",
        "clear_output()"
      ]
    },
    {
      "cell_type": "code",
      "execution_count": null,
      "metadata": {
        "id": "vy6Rz4fEEa2Y"
      },
      "outputs": [],
      "source": [
        "bert_tokenized_test_dataset = hate_test.map(bert_tokenize,batched=True)\n",
        "clear_output()\n"
      ]
    },
    {
      "cell_type": "code",
      "execution_count": null,
      "metadata": {
        "id": "j5vxg_4yE5a6"
      },
      "outputs": [],
      "source": [
        "predictions = trainer.predict(bert_tokenized_test_dataset)\n",
        "predicted_labels = predictions.predictions\n",
        "clear_output()"
      ]
    },
    {
      "cell_type": "code",
      "execution_count": null,
      "metadata": {
        "id": "muilJPuzEx04"
      },
      "outputs": [],
      "source": [
        "results[\"Accuracy\"][\"BERT\"] = accuracy_score(np.argmax(predicted_labels,axis=1),\n",
        "                                             bert_tokenized_test_dataset['label'])\n",
        "results[\"F1 score\"][\"BERT\"] = f1_score(np.argmax(predicted_labels,axis=1),\n",
        "                                       bert_tokenized_test_dataset['label'], average=\"macro\")\n"
      ]
    },
    {
      "cell_type": "markdown",
      "metadata": {
        "id": "W9d-_BdW21AO"
      },
      "source": [
        "<a name=\"3.3\"></a>\n",
        "## 3.3. Models Discussion"
      ]
    },
    {
      "cell_type": "markdown",
      "metadata": {
        "id": "GheVa_Ur3JWT"
      },
      "source": [
        "<a name=\"3.3.1.\"></a>\n",
        "\n",
        "### 3.3.1. BoW"
      ]
    },
    {
      "cell_type": "markdown",
      "metadata": {
        "id": "_j4kJHjntQ2l"
      },
      "source": [
        "<a name=\"3.3.1.1\"></a>\n",
        "\n",
        "#### 3.3.1.1. Logistic Regresion"
      ]
    },
    {
      "cell_type": "markdown",
      "metadata": {
        "id": "uIBShtMetWWv"
      },
      "source": [
        "Logistic regression is the most common ML classifier (Hovy 2, p. 11). By running a logistic regression model, we can easily predict binary outcomes such as hate speech (HS) and non-HS texts from a set of features. What is more, it doesn’t use much computational power, making the prediction process fast. It is more useful than running a linear model in the sense that 1) its predictions are values between 0 and 1 which can be interpreted in a probabilistic context and 2) outliers are not overweighted. The downside of the logistic regression model is that it misses non-linear associations by representing the relation between features and the outcome using only one sigmoid function"
      ]
    },
    {
      "cell_type": "markdown",
      "metadata": {
        "id": "1NjTkvpztbfy"
      },
      "source": [
        "<a name=\"3.3.1.2.\"></a>\n",
        "\n",
        "#### 3.3.1.2. Support Vector Classifier (SVC):"
      ]
    },
    {
      "cell_type": "markdown",
      "metadata": {
        "id": "erwb7e5Ytijq"
      },
      "source": [
        "The SVC approach is computationally slower than logistic regression but much more reliable for classifying outputs with larger datasets. Even though this approach has a high time complexity when dealing with very large dataframes, this is not an issue with the size of our dataframe.\n",
        "\n",
        "On the other hand, the outputs are only predictions and not probabilities, so it is not as helpful as Naive Bayes or Logistic Regression models when it comes to flexibility, as probability approaches allow for changing thresholds, hence penalising false positives in our particular case. Both the accuracy and the F1 scores are the highest when using SVC in comparison to Logistic Regression and Multinomial Naive Bayes, but it is important to note that this model predicts a high amount of false negatives, which can be detrimental to the final task: identifying HS within tweets.\n"
      ]
    },
    {
      "cell_type": "markdown",
      "metadata": {
        "id": "SPoYtkSNtyGG"
      },
      "source": [
        "<a name=\"3.3.1.3.\"></a>\n",
        "\n",
        "#### 3.3.1.3. Multinomial Naive Bayes:"
      ]
    },
    {
      "cell_type": "markdown",
      "metadata": {
        "id": "Ggc64Ajptqsb"
      },
      "source": [
        "This particular model is faster and simpler than SVC, and it performs well in small datasets, as it is in this case, considering that the full corpus we are working with contains 12.970 instances. In addition, the model outputs class probabilities, which is helpful for interpreting and analysing the outputs in relation to specific tweets, and for adapting the threshold to penalise false positives. Unfortunately, and as it happens with logistic regression models, Naive Bayes misses important interactions, hence predicting a high number of false positives (1.501 in the case of unprocessed text and 1.494 in the case of preprocessed text, the highest of these three models)."
      ]
    },
    {
      "cell_type": "markdown",
      "metadata": {
        "id": "MBlpVazU4Gbq"
      },
      "source": [
        "<a name=\"3.3.2.\"></a>\n",
        "\n",
        "### 3.3.2. Deep Learning (RNN-LSTM)"
      ]
    },
    {
      "cell_type": "markdown",
      "metadata": {
        "id": "AkDeKQig4E-a"
      },
      "source": [
        "In contrast to the bag of words approach often found in TF-IDF-based models (see above), Recurrent Neural Networks (RNNs) are able to take the entire sequence of tokens in a tweet into account. That means that an RNN model is able to capture the potential nuances stemming from the order in which HS-related tokens appear. For example, tweets defined by having slurs placed at the end or beginning of a tweet may carry a different meaning than those with those same slurs in the middle of the sentence. Long Short-Term Memory (LSTM) models are similar to RNN in this regard. However, LSTMs are in theory also able to learn what tokens introduce noise and filter them out accordingly while retaining relevant information.\n",
        "\n",
        "In both models, pre-trained word embeddings are employed to enrich the models’ associated understanding of the tokens. In this case, we specifically use word embeddings trained on Twitter data, which in theory should better match the vectors of the word embeddings in this case."
      ]
    },
    {
      "cell_type": "markdown",
      "metadata": {
        "id": "_QRWfc4E4eA3"
      },
      "source": [
        "<a name=\"3.3.3.\"></a>\n",
        "\n",
        "### 3.3.3. Deep Learning (BERT)"
      ]
    },
    {
      "cell_type": "markdown",
      "metadata": {
        "id": "No8vaEQo4eBK"
      },
      "source": [
        "Fine-tuning the BERT model for predicting HS makes sense as the words are understood in a broader context. In this approach, the key is that the network learns the meaning of the whole sentence by looking at the relevant parts to consider while processing. The BoW representation is changed as the model takes sequences of words as inputs. However, the model does not process the words sequentially, as RNN or LSTM does, which is computationally costly as the backward-forward propagation is performed many times in the mentioned models, but it takes into account the order of the words by positional encoding (Jurafsky, 2023).\n",
        "\n",
        "In this context, however, the pre-trained model architecture is as important as the train data of which it was developed. The BERT model was initially trained on Wikipedia and a corpus with American English texts. Even with millions of texts, in general, the semantics and words from the sampled tweets could behave differently and do not represent the same vocabulary and semantics as the training dataset. For example, British English and American English differ significantly in word usage and meaning, especially when it comes to slurs. As we are working with tweets that inherently contain lots of slang and slurs, the model might fail to capture such distinctions present among both British and American English."
      ]
    },
    {
      "cell_type": "markdown",
      "metadata": {
        "id": "Arg8izDBZ3Ij"
      },
      "source": [
        "<a name=\"3.4\"></a>\n",
        "## 3.4. Performance"
      ]
    },
    {
      "cell_type": "code",
      "execution_count": null,
      "metadata": {
        "colab": {
          "base_uri": "https://localhost:8080/",
          "height": 331
        },
        "id": "EzHGG3eCsrQb",
        "outputId": "0e04fb16-954d-44e3-cbda-28f271e649e1"
      },
      "outputs": [
        {
          "data": {
            "text/html": [
              "\n",
              "  <div id=\"df-a59754db-1fe5-461e-ad75-e15e049c1d6e\">\n",
              "    <div class=\"colab-df-container\">\n",
              "      <div>\n",
              "<style scoped>\n",
              "    .dataframe tbody tr th:only-of-type {\n",
              "        vertical-align: middle;\n",
              "    }\n",
              "\n",
              "    .dataframe tbody tr th {\n",
              "        vertical-align: top;\n",
              "    }\n",
              "\n",
              "    .dataframe thead th {\n",
              "        text-align: right;\n",
              "    }\n",
              "</style>\n",
              "<table border=\"1\" class=\"dataframe\">\n",
              "  <thead>\n",
              "    <tr style=\"text-align: right;\">\n",
              "      <th></th>\n",
              "      <th>Accuracy</th>\n",
              "      <th>F1 score</th>\n",
              "    </tr>\n",
              "  </thead>\n",
              "  <tbody>\n",
              "    <tr>\n",
              "      <th>SVC</th>\n",
              "      <td>0.537</td>\n",
              "      <td>0.535</td>\n",
              "    </tr>\n",
              "    <tr>\n",
              "      <th>SVC_lem</th>\n",
              "      <td>0.538</td>\n",
              "      <td>0.534</td>\n",
              "    </tr>\n",
              "    <tr>\n",
              "      <th>LR_lem</th>\n",
              "      <td>0.527</td>\n",
              "      <td>0.520</td>\n",
              "    </tr>\n",
              "    <tr>\n",
              "      <th>RNN</th>\n",
              "      <td>0.506</td>\n",
              "      <td>0.483</td>\n",
              "    </tr>\n",
              "    <tr>\n",
              "      <th>LR</th>\n",
              "      <td>0.509</td>\n",
              "      <td>0.473</td>\n",
              "    </tr>\n",
              "    <tr>\n",
              "      <th>BERT</th>\n",
              "      <td>0.495</td>\n",
              "      <td>0.437</td>\n",
              "    </tr>\n",
              "    <tr>\n",
              "      <th>LSTM</th>\n",
              "      <td>0.489</td>\n",
              "      <td>0.435</td>\n",
              "    </tr>\n",
              "    <tr>\n",
              "      <th>NB_lem</th>\n",
              "      <td>0.476</td>\n",
              "      <td>0.414</td>\n",
              "    </tr>\n",
              "    <tr>\n",
              "      <th>NB</th>\n",
              "      <td>0.475</td>\n",
              "      <td>0.412</td>\n",
              "    </tr>\n",
              "  </tbody>\n",
              "</table>\n",
              "</div>\n",
              "      <button class=\"colab-df-convert\" onclick=\"convertToInteractive('df-a59754db-1fe5-461e-ad75-e15e049c1d6e')\"\n",
              "              title=\"Convert this dataframe to an interactive table.\"\n",
              "              style=\"display:none;\">\n",
              "        \n",
              "  <svg xmlns=\"http://www.w3.org/2000/svg\" height=\"24px\"viewBox=\"0 0 24 24\"\n",
              "       width=\"24px\">\n",
              "    <path d=\"M0 0h24v24H0V0z\" fill=\"none\"/>\n",
              "    <path d=\"M18.56 5.44l.94 2.06.94-2.06 2.06-.94-2.06-.94-.94-2.06-.94 2.06-2.06.94zm-11 1L8.5 8.5l.94-2.06 2.06-.94-2.06-.94L8.5 2.5l-.94 2.06-2.06.94zm10 10l.94 2.06.94-2.06 2.06-.94-2.06-.94-.94-2.06-.94 2.06-2.06.94z\"/><path d=\"M17.41 7.96l-1.37-1.37c-.4-.4-.92-.59-1.43-.59-.52 0-1.04.2-1.43.59L10.3 9.45l-7.72 7.72c-.78.78-.78 2.05 0 2.83L4 21.41c.39.39.9.59 1.41.59.51 0 1.02-.2 1.41-.59l7.78-7.78 2.81-2.81c.8-.78.8-2.07 0-2.86zM5.41 20L4 18.59l7.72-7.72 1.47 1.35L5.41 20z\"/>\n",
              "  </svg>\n",
              "      </button>\n",
              "      \n",
              "  <style>\n",
              "    .colab-df-container {\n",
              "      display:flex;\n",
              "      flex-wrap:wrap;\n",
              "      gap: 12px;\n",
              "    }\n",
              "\n",
              "    .colab-df-convert {\n",
              "      background-color: #E8F0FE;\n",
              "      border: none;\n",
              "      border-radius: 50%;\n",
              "      cursor: pointer;\n",
              "      display: none;\n",
              "      fill: #1967D2;\n",
              "      height: 32px;\n",
              "      padding: 0 0 0 0;\n",
              "      width: 32px;\n",
              "    }\n",
              "\n",
              "    .colab-df-convert:hover {\n",
              "      background-color: #E2EBFA;\n",
              "      box-shadow: 0px 1px 2px rgba(60, 64, 67, 0.3), 0px 1px 3px 1px rgba(60, 64, 67, 0.15);\n",
              "      fill: #174EA6;\n",
              "    }\n",
              "\n",
              "    [theme=dark] .colab-df-convert {\n",
              "      background-color: #3B4455;\n",
              "      fill: #D2E3FC;\n",
              "    }\n",
              "\n",
              "    [theme=dark] .colab-df-convert:hover {\n",
              "      background-color: #434B5C;\n",
              "      box-shadow: 0px 1px 3px 1px rgba(0, 0, 0, 0.15);\n",
              "      filter: drop-shadow(0px 1px 2px rgba(0, 0, 0, 0.3));\n",
              "      fill: #FFFFFF;\n",
              "    }\n",
              "  </style>\n",
              "\n",
              "      <script>\n",
              "        const buttonEl =\n",
              "          document.querySelector('#df-a59754db-1fe5-461e-ad75-e15e049c1d6e button.colab-df-convert');\n",
              "        buttonEl.style.display =\n",
              "          google.colab.kernel.accessAllowed ? 'block' : 'none';\n",
              "\n",
              "        async function convertToInteractive(key) {\n",
              "          const element = document.querySelector('#df-a59754db-1fe5-461e-ad75-e15e049c1d6e');\n",
              "          const dataTable =\n",
              "            await google.colab.kernel.invokeFunction('convertToInteractive',\n",
              "                                                     [key], {});\n",
              "          if (!dataTable) return;\n",
              "\n",
              "          const docLinkHtml = 'Like what you see? Visit the ' +\n",
              "            '<a target=\"_blank\" href=https://colab.research.google.com/notebooks/data_table.ipynb>data table notebook</a>'\n",
              "            + ' to learn more about interactive tables.';\n",
              "          element.innerHTML = '';\n",
              "          dataTable['output_type'] = 'display_data';\n",
              "          await google.colab.output.renderOutput(dataTable, element);\n",
              "          const docLink = document.createElement('div');\n",
              "          docLink.innerHTML = docLinkHtml;\n",
              "          element.appendChild(docLink);\n",
              "        }\n",
              "      </script>\n",
              "    </div>\n",
              "  </div>\n",
              "  "
            ],
            "text/plain": [
              "         Accuracy  F1 score\n",
              "SVC         0.537     0.535\n",
              "SVC_lem     0.538     0.534\n",
              "LR_lem      0.527     0.520\n",
              "RNN         0.506     0.483\n",
              "LR          0.509     0.473\n",
              "BERT        0.495     0.437\n",
              "LSTM        0.489     0.435\n",
              "NB_lem      0.476     0.414\n",
              "NB          0.475     0.412"
            ]
          },
          "execution_count": 37,
          "metadata": {},
          "output_type": "execute_result"
        }
      ],
      "source": [
        "import pandas as pd\n",
        "pd.DataFrame(results)[['Accuracy', 'F1 score']].sort_values('F1 score',\n",
        "                                                            ascending=False).round(3)"
      ]
    },
    {
      "cell_type": "markdown",
      "metadata": {
        "id": "jxTWCTQ5Z3Ik"
      },
      "source": [
        "The highest performance model based on accuracy is SVC with lemmatized iput. Looking at the F1 metric, the best model is SVC.\n",
        "Accuracy measures the number of correct predictions based on all of the predictions. The F1 metric takes both precision and recall scores into account. In our models, the precision scores are relatively low in comparison to our recall scores, meaning that the models barely miss any true positives, but we cannot really trust the positive predictions provided by them, as there is a high number of false positives. As a result, we argue that the F1 score can better capture the nuances of this dichotomy between precision and recall better than the accuracy metric.\n",
        "\n",
        "We conclude that, despite using BoW or word embeddings as input, all of the models perform poorly.\n"
      ]
    },
    {
      "cell_type": "markdown",
      "metadata": {
        "id": "bb44rfUHZ6WG"
      },
      "source": [
        "<a name=\"3.5\"></a>\n",
        "## 3.5. Discussion"
      ]
    },
    {
      "cell_type": "markdown",
      "metadata": {
        "id": "DXdN7dQKrxDd"
      },
      "source": [
        "<a name=\"3.5.1.\"></a>\n",
        "#### 3.5.1 Data Collection\n"
      ]
    },
    {
      "cell_type": "markdown",
      "metadata": {
        "id": "uTYi_V-pZ6WH"
      },
      "source": [
        "The authors developed three approaches for sampling their tweets: user-based (potential victims and identified haters), and keywords-based. They also modified the distribution of the labels, by overrepresenting the HS texts from the original dataset where only 10% contains HS. We would like to have a clear description of the mentioned process for two reasons in order to understand the performance of the models. First, it is unclear why they used three approaches instead of one, and the dispersion of texts between samples. Knowing these details would give us an idea of how different each dataset represents HS by text. Even though HS is labelled with the same codebook, the way that HS is represented in each sample could be different, and controlling the variation from each sample could improve the accuracy of the model.\n",
        "\n",
        "Oversampling HS makes sense because ML models with  unbalanced dataset tend to have low precision by predicting  from the majority of cases (in this case non-HS). Nevertheless, the consequences of classifying using the new data set are as bad as the beginning: low precision where the majority is predicted as HS. Having an idea on (1) how the modified dataset was constructed, (2) the content of the text overrepresented, and (3) how to obtain the original dataset; could give us insights to improve the models."
      ]
    },
    {
      "cell_type": "markdown",
      "metadata": {
        "id": "MYPUKTw8sOuj"
      },
      "source": [
        "<a name=\"3.5.1.\"></a>\n",
        "#### 3.5.1 Data Collection"
      ]
    },
    {
      "cell_type": "markdown",
      "metadata": {
        "id": "-AptcrKRr5iX"
      },
      "source": [
        "Another aspect that could provide useful information is further insight into the annotation process. It is unclear how cases of HS that are related to neither women nor immigrants are labelled. This raises the question of whether such cases are sufficiently distinct from the two forms of HS of interest such that non-women and non-immigrant-targeting HS does not obscure the words related to positive cases. By extension, in terms of HS targeted towards women, it is not clear how gender is defined. It is unclear whether this includes non-cisgender women. And if so, whether HS targeted towards non-cisgender women is expressed in a way that is comparable to HS targeted towards cisgender women. The annotation process included crowd-sourced in addition to two expert annotations with labelling based on the majority of these three sources. In terms of this majority, two aspects may be useful in terms of taking ambiguity and coder disagreement into account.\n",
        "\n",
        "First, in terms of the crowdsourced data, it may provide insight to know the level of inter-rater agreement for each tweet, as they only report the overall level of inter-rater agreement (83% for English dataset, 89% for Spanish dataset). This would possibly aid in determining how large a subset of wrongfully predicted data is due to a potential deficiency in part of our models or is due to ambiguity in the data itself (where the annotation might be misleading and/or context-dependent). Second, the level of ambiguity may also be taken into account by noting whether the agreement between the crowd-sourced annotation and the two expert annotations is based on full consensus or just a majority. And if a final label is not based on a full consensus, being able to note the source of disagreement may be especially relevant if we are able to take the coder's background into account, such as whether the coder identifies as a woman or has an immigrant background.\n"
      ]
    },
    {
      "cell_type": "markdown",
      "metadata": {
        "id": "gezdI39rZXW_"
      },
      "source": [
        "<a name=\"4\"></a>\n",
        "# Part 4: Word Embeddings"
      ]
    },
    {
      "cell_type": "markdown",
      "metadata": {
        "id": "vGb3qQH1ooUD"
      },
      "source": [
        "<a name=\"4.0\"></a>\n",
        "## 4.0. Packages"
      ]
    },
    {
      "cell_type": "code",
      "execution_count": null,
      "metadata": {
        "colab": {
          "base_uri": "https://localhost:8080/"
        },
        "id": "slt6UXBUonCr",
        "outputId": "0192803f-aae9-48b7-da01-d3baee821ecc"
      },
      "outputs": [
        {
          "name": "stdout",
          "output_type": "stream",
          "text": [
            "Drive already mounted at /content/drive; to attempt to forcibly remount, call drive.mount(\"/content/drive\", force_remount=True).\n"
          ]
        }
      ],
      "source": [
        "import pandas as pd\n",
        "from google.colab import drive\n",
        "drive.mount('/content/drive')\n",
        "path = '/content/drive/MyDrive/ASDS II./Exam'\n",
        "os.chdir(path)"
      ]
    },
    {
      "cell_type": "markdown",
      "metadata": {
        "id": "tl4c5I3SaSXV"
      },
      "source": [
        "<a name=\"4.1\"></a>\n",
        "## 4.1. Training"
      ]
    },
    {
      "cell_type": "markdown",
      "metadata": {
        "id": "O2tdxwR6aSXW"
      },
      "source": [
        "Train your own word2vec vectors on the dataset. We recommend a vector size of 200, a window of 5, and three epochs of training. Make sure you tokenize and lowercase the words before feeding them into the model."
      ]
    },
    {
      "cell_type": "code",
      "execution_count": null,
      "metadata": {
        "id": "8RILNtpkWqHJ"
      },
      "outputs": [],
      "source": [
        "# code from ASDS2 Exercise 5.1 solutions:\n",
        "class MyDataLoader(object):\n",
        "    \"\"\"\n",
        "    A DataLoader class for reading and iterating over a corpus file.\n",
        "\n",
        "    Args:\n",
        "        filename (str): The name of the corpus file.\n",
        "    \"\"\"\n",
        "    # initialize the corpus object for a given filename\n",
        "    def __init__(self, filename):\n",
        "        self.corpus = filename\n",
        "\n",
        "    # we will need to define what counts as a \"chunk\" in this file, so when the\n",
        "    # Dataloader is loading (iterating over) the file and feeding it to the embedding\n",
        "    # model, it knows what to treat as one unit. Here, we (arbitrarily) say that one\n",
        "    # line in the file (corresponding to a paragraph) is one chunk.\n",
        "\n",
        "    def __iter__(self):\n",
        "    # _iter_ator function to iterate over the lines of the corpus file.\n",
        "        for line in open(self.corpus, \"r\", encoding=\"utf-8\"):\n",
        "            # checking that the line is not empty:\n",
        "            if line.strip():\n",
        "            # you may do some pre-processing on-the-fly. here we tokenize and lowercase\n",
        "            # the string before yielding it\n",
        "                line = word_tokenize(line)\n",
        "                line = [x.lower() for x in line]\n",
        "                yield line"
      ]
    },
    {
      "cell_type": "code",
      "execution_count": null,
      "metadata": {
        "id": "LID370zUX5JL"
      },
      "outputs": [],
      "source": [
        "# loading UNGD speeches\n",
        "UNGD_speeches = MyDataLoader(\"allspeeches_77_2022.txt\")"
      ]
    },
    {
      "cell_type": "code",
      "execution_count": null,
      "metadata": {
        "id": "WYx2GXc4YiXv"
      },
      "outputs": [],
      "source": [
        "# we used the skipgram model for training to be more accurate\n",
        "# in the case of low frequency words (Hovy 1, p. 43)\n",
        "UNGD2vec = gensim.models.Word2Vec(UNGD_speeches, vector_size=200, window=5,\n",
        "                                  min_count=5, epochs=3, seed=42, sg=1)"
      ]
    },
    {
      "cell_type": "markdown",
      "metadata": {
        "id": "qLQ5B1dgaUIi"
      },
      "source": [
        "<a name=\"4.2\"></a>\n",
        "## 4.2. Similarity"
      ]
    },
    {
      "cell_type": "code",
      "execution_count": null,
      "metadata": {
        "colab": {
          "base_uri": "https://localhost:8080/",
          "height": 427
        },
        "id": "4w7BaQcdgco7",
        "outputId": "c61ead1f-fdd7-4a09-8826-e8528344cc00"
      },
      "outputs": [
        {
          "output_type": "execute_result",
          "data": {
            "text/plain": [
              "   climate_word  climate_similarity pandemic_word  pandemic_similarity  \\\n",
              "0        change            0.414103      covid-19             0.617983   \n",
              "1    adaptation            0.393413       disease             0.584095   \n",
              "2  biodiversity            0.337226   coronavirus             0.564826   \n",
              "3         paris            0.332926      vaccines             0.422993   \n",
              "4       impacts            0.332471      recovery             0.406259   \n",
              "5          loss            0.319771   devastating             0.394224   \n",
              "6    mitigation            0.300604       effects             0.372405   \n",
              "7    convention            0.291987  consequences             0.367622   \n",
              "8       effects            0.290554     increased             0.358419   \n",
              "9     pollution            0.283647       impacts             0.354246   \n",
              "\n",
              "  terrorism_word  terrorism_similarity    future_word  future_similarity  \\\n",
              "0          armed              0.452010    generations           0.371394   \n",
              "1      sanctions              0.433221      solutions           0.370403   \n",
              "2    trafficking              0.426203        efforts           0.363307   \n",
              "3       conflict              0.422226    sustainable           0.358242   \n",
              "4           drug              0.418409          build           0.347406   \n",
              "5       measures              0.418149         better           0.342766   \n",
              "6      extremism              0.418026           work           0.332546   \n",
              "7       violence              0.414147     resilience           0.326488   \n",
              "8          fight              0.411359  opportunities           0.325425   \n",
              "9   consequences              0.409822      resilient           0.324736   \n",
              "\n",
              "  biodiversity_word  biodiversity_similarity     drug_word  drug_similarity  \\\n",
              "0        adaptation                 0.563646   trafficking         0.538628   \n",
              "1              loss                 0.525369     increased         0.521741   \n",
              "2            damage                 0.516633        damage         0.494742   \n",
              "3            marine                 0.513253      civilian         0.494602   \n",
              "4         financing                 0.504852         grain         0.487827   \n",
              "5           impacts                 0.500810    activities         0.487367   \n",
              "6         pollution                 0.499751     resulting         0.486171   \n",
              "7        mitigation                 0.495103  displacement         0.483610   \n",
              "8           finance                 0.494690     sanctions         0.483019   \n",
              "9           natural                 0.494280           gas         0.482986   \n",
              "\n",
              "  generations_word  generations_similarity  \n",
              "0             able                0.451479  \n",
              "1           future                0.394320  \n",
              "2             best                0.371840  \n",
              "3             live                0.363917  \n",
              "4             them                0.361494  \n",
              "5            young                0.361230  \n",
              "6             save                0.360465  \n",
              "7           planet                0.356009  \n",
              "8    opportunities                0.353885  \n",
              "9           enable                0.351843  "
            ],
            "text/html": [
              "\n",
              "  <div id=\"df-8d34a508-f0d4-4742-ba07-1690cac1d09e\">\n",
              "    <div class=\"colab-df-container\">\n",
              "      <div>\n",
              "<style scoped>\n",
              "    .dataframe tbody tr th:only-of-type {\n",
              "        vertical-align: middle;\n",
              "    }\n",
              "\n",
              "    .dataframe tbody tr th {\n",
              "        vertical-align: top;\n",
              "    }\n",
              "\n",
              "    .dataframe thead th {\n",
              "        text-align: right;\n",
              "    }\n",
              "</style>\n",
              "<table border=\"1\" class=\"dataframe\">\n",
              "  <thead>\n",
              "    <tr style=\"text-align: right;\">\n",
              "      <th></th>\n",
              "      <th>climate_word</th>\n",
              "      <th>climate_similarity</th>\n",
              "      <th>pandemic_word</th>\n",
              "      <th>pandemic_similarity</th>\n",
              "      <th>terrorism_word</th>\n",
              "      <th>terrorism_similarity</th>\n",
              "      <th>future_word</th>\n",
              "      <th>future_similarity</th>\n",
              "      <th>biodiversity_word</th>\n",
              "      <th>biodiversity_similarity</th>\n",
              "      <th>drug_word</th>\n",
              "      <th>drug_similarity</th>\n",
              "      <th>generations_word</th>\n",
              "      <th>generations_similarity</th>\n",
              "    </tr>\n",
              "  </thead>\n",
              "  <tbody>\n",
              "    <tr>\n",
              "      <th>0</th>\n",
              "      <td>change</td>\n",
              "      <td>0.414103</td>\n",
              "      <td>covid-19</td>\n",
              "      <td>0.617983</td>\n",
              "      <td>armed</td>\n",
              "      <td>0.452010</td>\n",
              "      <td>generations</td>\n",
              "      <td>0.371394</td>\n",
              "      <td>adaptation</td>\n",
              "      <td>0.563646</td>\n",
              "      <td>trafficking</td>\n",
              "      <td>0.538628</td>\n",
              "      <td>able</td>\n",
              "      <td>0.451479</td>\n",
              "    </tr>\n",
              "    <tr>\n",
              "      <th>1</th>\n",
              "      <td>adaptation</td>\n",
              "      <td>0.393413</td>\n",
              "      <td>disease</td>\n",
              "      <td>0.584095</td>\n",
              "      <td>sanctions</td>\n",
              "      <td>0.433221</td>\n",
              "      <td>solutions</td>\n",
              "      <td>0.370403</td>\n",
              "      <td>loss</td>\n",
              "      <td>0.525369</td>\n",
              "      <td>increased</td>\n",
              "      <td>0.521741</td>\n",
              "      <td>future</td>\n",
              "      <td>0.394320</td>\n",
              "    </tr>\n",
              "    <tr>\n",
              "      <th>2</th>\n",
              "      <td>biodiversity</td>\n",
              "      <td>0.337226</td>\n",
              "      <td>coronavirus</td>\n",
              "      <td>0.564826</td>\n",
              "      <td>trafficking</td>\n",
              "      <td>0.426203</td>\n",
              "      <td>efforts</td>\n",
              "      <td>0.363307</td>\n",
              "      <td>damage</td>\n",
              "      <td>0.516633</td>\n",
              "      <td>damage</td>\n",
              "      <td>0.494742</td>\n",
              "      <td>best</td>\n",
              "      <td>0.371840</td>\n",
              "    </tr>\n",
              "    <tr>\n",
              "      <th>3</th>\n",
              "      <td>paris</td>\n",
              "      <td>0.332926</td>\n",
              "      <td>vaccines</td>\n",
              "      <td>0.422993</td>\n",
              "      <td>conflict</td>\n",
              "      <td>0.422226</td>\n",
              "      <td>sustainable</td>\n",
              "      <td>0.358242</td>\n",
              "      <td>marine</td>\n",
              "      <td>0.513253</td>\n",
              "      <td>civilian</td>\n",
              "      <td>0.494602</td>\n",
              "      <td>live</td>\n",
              "      <td>0.363917</td>\n",
              "    </tr>\n",
              "    <tr>\n",
              "      <th>4</th>\n",
              "      <td>impacts</td>\n",
              "      <td>0.332471</td>\n",
              "      <td>recovery</td>\n",
              "      <td>0.406259</td>\n",
              "      <td>drug</td>\n",
              "      <td>0.418409</td>\n",
              "      <td>build</td>\n",
              "      <td>0.347406</td>\n",
              "      <td>financing</td>\n",
              "      <td>0.504852</td>\n",
              "      <td>grain</td>\n",
              "      <td>0.487827</td>\n",
              "      <td>them</td>\n",
              "      <td>0.361494</td>\n",
              "    </tr>\n",
              "    <tr>\n",
              "      <th>5</th>\n",
              "      <td>loss</td>\n",
              "      <td>0.319771</td>\n",
              "      <td>devastating</td>\n",
              "      <td>0.394224</td>\n",
              "      <td>measures</td>\n",
              "      <td>0.418149</td>\n",
              "      <td>better</td>\n",
              "      <td>0.342766</td>\n",
              "      <td>impacts</td>\n",
              "      <td>0.500810</td>\n",
              "      <td>activities</td>\n",
              "      <td>0.487367</td>\n",
              "      <td>young</td>\n",
              "      <td>0.361230</td>\n",
              "    </tr>\n",
              "    <tr>\n",
              "      <th>6</th>\n",
              "      <td>mitigation</td>\n",
              "      <td>0.300604</td>\n",
              "      <td>effects</td>\n",
              "      <td>0.372405</td>\n",
              "      <td>extremism</td>\n",
              "      <td>0.418026</td>\n",
              "      <td>work</td>\n",
              "      <td>0.332546</td>\n",
              "      <td>pollution</td>\n",
              "      <td>0.499751</td>\n",
              "      <td>resulting</td>\n",
              "      <td>0.486171</td>\n",
              "      <td>save</td>\n",
              "      <td>0.360465</td>\n",
              "    </tr>\n",
              "    <tr>\n",
              "      <th>7</th>\n",
              "      <td>convention</td>\n",
              "      <td>0.291987</td>\n",
              "      <td>consequences</td>\n",
              "      <td>0.367622</td>\n",
              "      <td>violence</td>\n",
              "      <td>0.414147</td>\n",
              "      <td>resilience</td>\n",
              "      <td>0.326488</td>\n",
              "      <td>mitigation</td>\n",
              "      <td>0.495103</td>\n",
              "      <td>displacement</td>\n",
              "      <td>0.483610</td>\n",
              "      <td>planet</td>\n",
              "      <td>0.356009</td>\n",
              "    </tr>\n",
              "    <tr>\n",
              "      <th>8</th>\n",
              "      <td>effects</td>\n",
              "      <td>0.290554</td>\n",
              "      <td>increased</td>\n",
              "      <td>0.358419</td>\n",
              "      <td>fight</td>\n",
              "      <td>0.411359</td>\n",
              "      <td>opportunities</td>\n",
              "      <td>0.325425</td>\n",
              "      <td>finance</td>\n",
              "      <td>0.494690</td>\n",
              "      <td>sanctions</td>\n",
              "      <td>0.483019</td>\n",
              "      <td>opportunities</td>\n",
              "      <td>0.353885</td>\n",
              "    </tr>\n",
              "    <tr>\n",
              "      <th>9</th>\n",
              "      <td>pollution</td>\n",
              "      <td>0.283647</td>\n",
              "      <td>impacts</td>\n",
              "      <td>0.354246</td>\n",
              "      <td>consequences</td>\n",
              "      <td>0.409822</td>\n",
              "      <td>resilient</td>\n",
              "      <td>0.324736</td>\n",
              "      <td>natural</td>\n",
              "      <td>0.494280</td>\n",
              "      <td>gas</td>\n",
              "      <td>0.482986</td>\n",
              "      <td>enable</td>\n",
              "      <td>0.351843</td>\n",
              "    </tr>\n",
              "  </tbody>\n",
              "</table>\n",
              "</div>\n",
              "      <button class=\"colab-df-convert\" onclick=\"convertToInteractive('df-8d34a508-f0d4-4742-ba07-1690cac1d09e')\"\n",
              "              title=\"Convert this dataframe to an interactive table.\"\n",
              "              style=\"display:none;\">\n",
              "        \n",
              "  <svg xmlns=\"http://www.w3.org/2000/svg\" height=\"24px\"viewBox=\"0 0 24 24\"\n",
              "       width=\"24px\">\n",
              "    <path d=\"M0 0h24v24H0V0z\" fill=\"none\"/>\n",
              "    <path d=\"M18.56 5.44l.94 2.06.94-2.06 2.06-.94-2.06-.94-.94-2.06-.94 2.06-2.06.94zm-11 1L8.5 8.5l.94-2.06 2.06-.94-2.06-.94L8.5 2.5l-.94 2.06-2.06.94zm10 10l.94 2.06.94-2.06 2.06-.94-2.06-.94-.94-2.06-.94 2.06-2.06.94z\"/><path d=\"M17.41 7.96l-1.37-1.37c-.4-.4-.92-.59-1.43-.59-.52 0-1.04.2-1.43.59L10.3 9.45l-7.72 7.72c-.78.78-.78 2.05 0 2.83L4 21.41c.39.39.9.59 1.41.59.51 0 1.02-.2 1.41-.59l7.78-7.78 2.81-2.81c.8-.78.8-2.07 0-2.86zM5.41 20L4 18.59l7.72-7.72 1.47 1.35L5.41 20z\"/>\n",
              "  </svg>\n",
              "      </button>\n",
              "      \n",
              "  <style>\n",
              "    .colab-df-container {\n",
              "      display:flex;\n",
              "      flex-wrap:wrap;\n",
              "      gap: 12px;\n",
              "    }\n",
              "\n",
              "    .colab-df-convert {\n",
              "      background-color: #E8F0FE;\n",
              "      border: none;\n",
              "      border-radius: 50%;\n",
              "      cursor: pointer;\n",
              "      display: none;\n",
              "      fill: #1967D2;\n",
              "      height: 32px;\n",
              "      padding: 0 0 0 0;\n",
              "      width: 32px;\n",
              "    }\n",
              "\n",
              "    .colab-df-convert:hover {\n",
              "      background-color: #E2EBFA;\n",
              "      box-shadow: 0px 1px 2px rgba(60, 64, 67, 0.3), 0px 1px 3px 1px rgba(60, 64, 67, 0.15);\n",
              "      fill: #174EA6;\n",
              "    }\n",
              "\n",
              "    [theme=dark] .colab-df-convert {\n",
              "      background-color: #3B4455;\n",
              "      fill: #D2E3FC;\n",
              "    }\n",
              "\n",
              "    [theme=dark] .colab-df-convert:hover {\n",
              "      background-color: #434B5C;\n",
              "      box-shadow: 0px 1px 3px 1px rgba(0, 0, 0, 0.15);\n",
              "      filter: drop-shadow(0px 1px 2px rgba(0, 0, 0, 0.3));\n",
              "      fill: #FFFFFF;\n",
              "    }\n",
              "  </style>\n",
              "\n",
              "      <script>\n",
              "        const buttonEl =\n",
              "          document.querySelector('#df-8d34a508-f0d4-4742-ba07-1690cac1d09e button.colab-df-convert');\n",
              "        buttonEl.style.display =\n",
              "          google.colab.kernel.accessAllowed ? 'block' : 'none';\n",
              "\n",
              "        async function convertToInteractive(key) {\n",
              "          const element = document.querySelector('#df-8d34a508-f0d4-4742-ba07-1690cac1d09e');\n",
              "          const dataTable =\n",
              "            await google.colab.kernel.invokeFunction('convertToInteractive',\n",
              "                                                     [key], {});\n",
              "          if (!dataTable) return;\n",
              "\n",
              "          const docLinkHtml = 'Like what you see? Visit the ' +\n",
              "            '<a target=\"_blank\" href=https://colab.research.google.com/notebooks/data_table.ipynb>data table notebook</a>'\n",
              "            + ' to learn more about interactive tables.';\n",
              "          element.innerHTML = '';\n",
              "          dataTable['output_type'] = 'display_data';\n",
              "          await google.colab.output.renderOutput(dataTable, element);\n",
              "          const docLink = document.createElement('div');\n",
              "          docLink.innerHTML = docLinkHtml;\n",
              "          element.appendChild(docLink);\n",
              "        }\n",
              "      </script>\n",
              "    </div>\n",
              "  </div>\n",
              "  "
            ]
          },
          "metadata": {},
          "execution_count": 51
        }
      ],
      "source": [
        "# printing out the 10 words most similar to [\"climate\", \"pandemic\", \"terrorism\", \"future\"]\n",
        "words_of_interest = [\"climate\", \"pandemic\", \"terrorism\", \"future\",\n",
        "                     \"biodiversity\", \"drug\", \"generations\"]\n",
        "msws = []\n",
        "\n",
        "for woi in words_of_interest:\n",
        "  df_temp = pd.DataFrame(UNGD2vec.wv.most_similar(woi, 10),\n",
        "                         columns=[woi+\"_word\", woi+\"_similarity\"])\n",
        "  msws.append(df_temp)\n",
        "\n",
        "df_msws = pd.concat([pd.DataFrame(x) for x in msws], axis=1)\n",
        "df_msws"
      ]
    },
    {
      "cell_type": "markdown",
      "metadata": {
        "id": "I4ni3Tg2mslQ"
      },
      "source": [
        "In the context of word2vec, \"similarity\" means the semantic relation of the words. This is, in our word2vec algorithm, based on to what extent the given words are co-occuring within a given window of words (which has a size of 5) (Hovy 1, p. 42).\n",
        "- **Climate:** \"climate change\" is often used as a compound word, while \"paris\" might refer to the Paris Agreement (COP21, 2015), where global leaders agreed to aim to limit the temperature increase. We suspect loss is often used as part of the compound word \"biodiversity loss\". Looking at the most similar words to biodiversity, adaptation and loss are indeed at the top, both of which appear in the list of \"climate\".\n",
        "- **Pandemic:** top words are covid-19 and coronavirus, both of which are referring to the recent pandemic. Having \"devastating\", \"effects\", \"consequences\", \"increased\" and \"impacts\" on the list suggests an ongoing mentioning of its aftermath, ~2.5 years after its breakout.\n",
        "- **Terrorism:** the most similar word is \"armed\", probably referring to its agressive nature. It is surprising to us that \"extremism\" is not on the top, nor \"violence\", which might sound like the most common words to describe \"terrorism\". We observe UNGA speeches rather co-use the word with concrete acts of (e.g. \"drug\") and counteracts to (\"sanctions\") terrorism. Taking a glance at the most frequently co-occuring words with \"drug\", we see that \"trafficking\" is on the top, indicating its appearance as a compound word in relation to \"terrorism\" as well.\n",
        "- **Future:** \"generations\" shows the strongest similarity to \"future\", which might refer to the compund word \"future generations\". When looking at \"generations\" we find that \"future\" is the second on its list, indicating a similarity value close to the other way round."
      ]
    },
    {
      "cell_type": "markdown",
      "metadata": {
        "id": "nV_Dl0V4aUXI"
      },
      "source": [
        "<a name=\"4.3\"></a>\n",
        "## 4.3. Supervised Task"
      ]
    },
    {
      "cell_type": "markdown",
      "metadata": {
        "id": "6QvEnnBVaUXJ"
      },
      "source": [
        "Pre-trained models generally contain word embeddings that apply to the greater society. As Thadajarassiri et al. underline, although embeddings trained on a large corpus \"are broadly useful across many tasks in many domains”, their general nature “comes at the cost of ignoring word meanings that are specific to domains\" (2019). In fact, Diaz et al. argue that \"for many tasks that require topic-specific linguistic analysis, topic-specific representations should outperform global representations\" (2016).\n",
        "\n",
        "If we had a small dataset, it might be more useful to rely on pre-trained models (like GloVe, or Fasttext). We argue, however, that if we are curious about uncovering more specific similarities, it rather makes sense to use a locally trained model to solve our issue. Although computationally expensive and restricted in size, creating our own word embeddings is more accurate when learning meanings within the domain specific to international affairs (Hovy 1, p.45). Given the data we have includes all 77 sessions of UN General Debates and inherently contains the vocabulary of international affairs, we argue it makes more sense to use our locally trained model for the detection."
      ]
    },
    {
      "cell_type": "markdown",
      "metadata": {
        "id": "XpiFFuNwaUlx"
      },
      "source": [
        "<a name=\"4.4\"></a>\n",
        "## 4.4. Re-training"
      ]
    },
    {
      "cell_type": "code",
      "execution_count": null,
      "metadata": {
        "id": "n5jcBGx539Zz"
      },
      "outputs": [],
      "source": [
        "# training the model with a different seed\n",
        "UNGD2vec_2 = gensim.models.Word2Vec(UNGD_speeches, vector_size=200, window=5,\n",
        "                                    min_count=5, epochs=3, seed=42, sg=1)"
      ]
    },
    {
      "cell_type": "code",
      "execution_count": null,
      "metadata": {
        "colab": {
          "base_uri": "https://localhost:8080/",
          "height": 427
        },
        "id": "tSnowUhp4SgG",
        "outputId": "9c262e65-7e56-4c99-9fe8-ee91fb03d8bd"
      },
      "outputs": [
        {
          "data": {
            "text/html": [
              "\n",
              "  <div id=\"df-86dde1ec-e00e-43f8-b8c8-b686e8522b0d\">\n",
              "    <div class=\"colab-df-container\">\n",
              "      <div>\n",
              "<style scoped>\n",
              "    .dataframe tbody tr th:only-of-type {\n",
              "        vertical-align: middle;\n",
              "    }\n",
              "\n",
              "    .dataframe tbody tr th {\n",
              "        vertical-align: top;\n",
              "    }\n",
              "\n",
              "    .dataframe thead th {\n",
              "        text-align: right;\n",
              "    }\n",
              "</style>\n",
              "<table border=\"1\" class=\"dataframe\">\n",
              "  <thead>\n",
              "    <tr style=\"text-align: right;\">\n",
              "      <th></th>\n",
              "      <th>climate_word</th>\n",
              "      <th>climate_similarity</th>\n",
              "      <th>pandemic_word</th>\n",
              "      <th>pandemic_similarity</th>\n",
              "      <th>terrorism_word</th>\n",
              "      <th>terrorism_similarity</th>\n",
              "      <th>future_word</th>\n",
              "      <th>future_similarity</th>\n",
              "      <th>biodiversity_word</th>\n",
              "      <th>biodiversity_similarity</th>\n",
              "      <th>drug_word</th>\n",
              "      <th>drug_similarity</th>\n",
              "      <th>generations_word</th>\n",
              "      <th>generations_similarity</th>\n",
              "    </tr>\n",
              "  </thead>\n",
              "  <tbody>\n",
              "    <tr>\n",
              "      <th>0</th>\n",
              "      <td>change</td>\n",
              "      <td>0.413212</td>\n",
              "      <td>covid-19</td>\n",
              "      <td>0.618226</td>\n",
              "      <td>armed</td>\n",
              "      <td>0.453966</td>\n",
              "      <td>generations</td>\n",
              "      <td>0.371321</td>\n",
              "      <td>adaptation</td>\n",
              "      <td>0.563326</td>\n",
              "      <td>trafficking</td>\n",
              "      <td>0.538703</td>\n",
              "      <td>able</td>\n",
              "      <td>0.450842</td>\n",
              "    </tr>\n",
              "    <tr>\n",
              "      <th>1</th>\n",
              "      <td>adaptation</td>\n",
              "      <td>0.393006</td>\n",
              "      <td>disease</td>\n",
              "      <td>0.583834</td>\n",
              "      <td>sanctions</td>\n",
              "      <td>0.434513</td>\n",
              "      <td>solutions</td>\n",
              "      <td>0.370398</td>\n",
              "      <td>loss</td>\n",
              "      <td>0.525023</td>\n",
              "      <td>increased</td>\n",
              "      <td>0.522049</td>\n",
              "      <td>future</td>\n",
              "      <td>0.394679</td>\n",
              "    </tr>\n",
              "    <tr>\n",
              "      <th>2</th>\n",
              "      <td>biodiversity</td>\n",
              "      <td>0.336836</td>\n",
              "      <td>coronavirus</td>\n",
              "      <td>0.564856</td>\n",
              "      <td>trafficking</td>\n",
              "      <td>0.427508</td>\n",
              "      <td>efforts</td>\n",
              "      <td>0.362234</td>\n",
              "      <td>damage</td>\n",
              "      <td>0.515755</td>\n",
              "      <td>civilian</td>\n",
              "      <td>0.494974</td>\n",
              "      <td>best</td>\n",
              "      <td>0.371277</td>\n",
              "    </tr>\n",
              "    <tr>\n",
              "      <th>3</th>\n",
              "      <td>impacts</td>\n",
              "      <td>0.332424</td>\n",
              "      <td>vaccines</td>\n",
              "      <td>0.422460</td>\n",
              "      <td>conflict</td>\n",
              "      <td>0.423699</td>\n",
              "      <td>sustainable</td>\n",
              "      <td>0.358720</td>\n",
              "      <td>marine</td>\n",
              "      <td>0.513568</td>\n",
              "      <td>damage</td>\n",
              "      <td>0.493999</td>\n",
              "      <td>live</td>\n",
              "      <td>0.363488</td>\n",
              "    </tr>\n",
              "    <tr>\n",
              "      <th>4</th>\n",
              "      <td>paris</td>\n",
              "      <td>0.332089</td>\n",
              "      <td>recovery</td>\n",
              "      <td>0.406139</td>\n",
              "      <td>drug</td>\n",
              "      <td>0.418853</td>\n",
              "      <td>build</td>\n",
              "      <td>0.346978</td>\n",
              "      <td>financing</td>\n",
              "      <td>0.504138</td>\n",
              "      <td>grain</td>\n",
              "      <td>0.488355</td>\n",
              "      <td>young</td>\n",
              "      <td>0.362007</td>\n",
              "    </tr>\n",
              "    <tr>\n",
              "      <th>5</th>\n",
              "      <td>loss</td>\n",
              "      <td>0.318960</td>\n",
              "      <td>devastating</td>\n",
              "      <td>0.394368</td>\n",
              "      <td>extremism</td>\n",
              "      <td>0.418713</td>\n",
              "      <td>better</td>\n",
              "      <td>0.342449</td>\n",
              "      <td>impacts</td>\n",
              "      <td>0.501121</td>\n",
              "      <td>activities</td>\n",
              "      <td>0.488031</td>\n",
              "      <td>them</td>\n",
              "      <td>0.361556</td>\n",
              "    </tr>\n",
              "    <tr>\n",
              "      <th>6</th>\n",
              "      <td>mitigation</td>\n",
              "      <td>0.299905</td>\n",
              "      <td>effects</td>\n",
              "      <td>0.372384</td>\n",
              "      <td>measures</td>\n",
              "      <td>0.417605</td>\n",
              "      <td>work</td>\n",
              "      <td>0.331830</td>\n",
              "      <td>pollution</td>\n",
              "      <td>0.499528</td>\n",
              "      <td>resulting</td>\n",
              "      <td>0.486505</td>\n",
              "      <td>save</td>\n",
              "      <td>0.360612</td>\n",
              "    </tr>\n",
              "    <tr>\n",
              "      <th>7</th>\n",
              "      <td>convention</td>\n",
              "      <td>0.291730</td>\n",
              "      <td>consequences</td>\n",
              "      <td>0.367774</td>\n",
              "      <td>violence</td>\n",
              "      <td>0.416450</td>\n",
              "      <td>resilience</td>\n",
              "      <td>0.326234</td>\n",
              "      <td>finance</td>\n",
              "      <td>0.494686</td>\n",
              "      <td>sanctions</td>\n",
              "      <td>0.484119</td>\n",
              "      <td>planet</td>\n",
              "      <td>0.355799</td>\n",
              "    </tr>\n",
              "    <tr>\n",
              "      <th>8</th>\n",
              "      <td>effects</td>\n",
              "      <td>0.290407</td>\n",
              "      <td>increased</td>\n",
              "      <td>0.358058</td>\n",
              "      <td>fight</td>\n",
              "      <td>0.411949</td>\n",
              "      <td>opportunities</td>\n",
              "      <td>0.325123</td>\n",
              "      <td>mitigation</td>\n",
              "      <td>0.494450</td>\n",
              "      <td>displacement</td>\n",
              "      <td>0.483515</td>\n",
              "      <td>opportunities</td>\n",
              "      <td>0.353719</td>\n",
              "    </tr>\n",
              "    <tr>\n",
              "      <th>9</th>\n",
              "      <td>pollution</td>\n",
              "      <td>0.283115</td>\n",
              "      <td>impacts</td>\n",
              "      <td>0.354945</td>\n",
              "      <td>consequences</td>\n",
              "      <td>0.409944</td>\n",
              "      <td>resilient</td>\n",
              "      <td>0.324902</td>\n",
              "      <td>natural</td>\n",
              "      <td>0.493977</td>\n",
              "      <td>violent</td>\n",
              "      <td>0.482765</td>\n",
              "      <td>enable</td>\n",
              "      <td>0.352206</td>\n",
              "    </tr>\n",
              "  </tbody>\n",
              "</table>\n",
              "</div>\n",
              "      <button class=\"colab-df-convert\" onclick=\"convertToInteractive('df-86dde1ec-e00e-43f8-b8c8-b686e8522b0d')\"\n",
              "              title=\"Convert this dataframe to an interactive table.\"\n",
              "              style=\"display:none;\">\n",
              "        \n",
              "  <svg xmlns=\"http://www.w3.org/2000/svg\" height=\"24px\"viewBox=\"0 0 24 24\"\n",
              "       width=\"24px\">\n",
              "    <path d=\"M0 0h24v24H0V0z\" fill=\"none\"/>\n",
              "    <path d=\"M18.56 5.44l.94 2.06.94-2.06 2.06-.94-2.06-.94-.94-2.06-.94 2.06-2.06.94zm-11 1L8.5 8.5l.94-2.06 2.06-.94-2.06-.94L8.5 2.5l-.94 2.06-2.06.94zm10 10l.94 2.06.94-2.06 2.06-.94-2.06-.94-.94-2.06-.94 2.06-2.06.94z\"/><path d=\"M17.41 7.96l-1.37-1.37c-.4-.4-.92-.59-1.43-.59-.52 0-1.04.2-1.43.59L10.3 9.45l-7.72 7.72c-.78.78-.78 2.05 0 2.83L4 21.41c.39.39.9.59 1.41.59.51 0 1.02-.2 1.41-.59l7.78-7.78 2.81-2.81c.8-.78.8-2.07 0-2.86zM5.41 20L4 18.59l7.72-7.72 1.47 1.35L5.41 20z\"/>\n",
              "  </svg>\n",
              "      </button>\n",
              "      \n",
              "  <style>\n",
              "    .colab-df-container {\n",
              "      display:flex;\n",
              "      flex-wrap:wrap;\n",
              "      gap: 12px;\n",
              "    }\n",
              "\n",
              "    .colab-df-convert {\n",
              "      background-color: #E8F0FE;\n",
              "      border: none;\n",
              "      border-radius: 50%;\n",
              "      cursor: pointer;\n",
              "      display: none;\n",
              "      fill: #1967D2;\n",
              "      height: 32px;\n",
              "      padding: 0 0 0 0;\n",
              "      width: 32px;\n",
              "    }\n",
              "\n",
              "    .colab-df-convert:hover {\n",
              "      background-color: #E2EBFA;\n",
              "      box-shadow: 0px 1px 2px rgba(60, 64, 67, 0.3), 0px 1px 3px 1px rgba(60, 64, 67, 0.15);\n",
              "      fill: #174EA6;\n",
              "    }\n",
              "\n",
              "    [theme=dark] .colab-df-convert {\n",
              "      background-color: #3B4455;\n",
              "      fill: #D2E3FC;\n",
              "    }\n",
              "\n",
              "    [theme=dark] .colab-df-convert:hover {\n",
              "      background-color: #434B5C;\n",
              "      box-shadow: 0px 1px 3px 1px rgba(0, 0, 0, 0.15);\n",
              "      filter: drop-shadow(0px 1px 2px rgba(0, 0, 0, 0.3));\n",
              "      fill: #FFFFFF;\n",
              "    }\n",
              "  </style>\n",
              "\n",
              "      <script>\n",
              "        const buttonEl =\n",
              "          document.querySelector('#df-86dde1ec-e00e-43f8-b8c8-b686e8522b0d button.colab-df-convert');\n",
              "        buttonEl.style.display =\n",
              "          google.colab.kernel.accessAllowed ? 'block' : 'none';\n",
              "\n",
              "        async function convertToInteractive(key) {\n",
              "          const element = document.querySelector('#df-86dde1ec-e00e-43f8-b8c8-b686e8522b0d');\n",
              "          const dataTable =\n",
              "            await google.colab.kernel.invokeFunction('convertToInteractive',\n",
              "                                                     [key], {});\n",
              "          if (!dataTable) return;\n",
              "\n",
              "          const docLinkHtml = 'Like what you see? Visit the ' +\n",
              "            '<a target=\"_blank\" href=https://colab.research.google.com/notebooks/data_table.ipynb>data table notebook</a>'\n",
              "            + ' to learn more about interactive tables.';\n",
              "          element.innerHTML = '';\n",
              "          dataTable['output_type'] = 'display_data';\n",
              "          await google.colab.output.renderOutput(dataTable, element);\n",
              "          const docLink = document.createElement('div');\n",
              "          docLink.innerHTML = docLinkHtml;\n",
              "          element.appendChild(docLink);\n",
              "        }\n",
              "      </script>\n",
              "    </div>\n",
              "  </div>\n",
              "  "
            ],
            "text/plain": [
              "   climate_word  climate_similarity pandemic_word  pandemic_similarity  \\\n",
              "0        change            0.413212      covid-19             0.618226   \n",
              "1    adaptation            0.393006       disease             0.583834   \n",
              "2  biodiversity            0.336836   coronavirus             0.564856   \n",
              "3       impacts            0.332424      vaccines             0.422460   \n",
              "4         paris            0.332089      recovery             0.406139   \n",
              "5          loss            0.318960   devastating             0.394368   \n",
              "6    mitigation            0.299905       effects             0.372384   \n",
              "7    convention            0.291730  consequences             0.367774   \n",
              "8       effects            0.290407     increased             0.358058   \n",
              "9     pollution            0.283115       impacts             0.354945   \n",
              "\n",
              "  terrorism_word  terrorism_similarity    future_word  future_similarity  \\\n",
              "0          armed              0.453966    generations           0.371321   \n",
              "1      sanctions              0.434513      solutions           0.370398   \n",
              "2    trafficking              0.427508        efforts           0.362234   \n",
              "3       conflict              0.423699    sustainable           0.358720   \n",
              "4           drug              0.418853          build           0.346978   \n",
              "5      extremism              0.418713         better           0.342449   \n",
              "6       measures              0.417605           work           0.331830   \n",
              "7       violence              0.416450     resilience           0.326234   \n",
              "8          fight              0.411949  opportunities           0.325123   \n",
              "9   consequences              0.409944      resilient           0.324902   \n",
              "\n",
              "  biodiversity_word  biodiversity_similarity     drug_word  drug_similarity  \\\n",
              "0        adaptation                 0.563326   trafficking         0.538703   \n",
              "1              loss                 0.525023     increased         0.522049   \n",
              "2            damage                 0.515755      civilian         0.494974   \n",
              "3            marine                 0.513568        damage         0.493999   \n",
              "4         financing                 0.504138         grain         0.488355   \n",
              "5           impacts                 0.501121    activities         0.488031   \n",
              "6         pollution                 0.499528     resulting         0.486505   \n",
              "7           finance                 0.494686     sanctions         0.484119   \n",
              "8        mitigation                 0.494450  displacement         0.483515   \n",
              "9           natural                 0.493977       violent         0.482765   \n",
              "\n",
              "  generations_word  generations_similarity  \n",
              "0             able                0.450842  \n",
              "1           future                0.394679  \n",
              "2             best                0.371277  \n",
              "3             live                0.363488  \n",
              "4            young                0.362007  \n",
              "5             them                0.361556  \n",
              "6             save                0.360612  \n",
              "7           planet                0.355799  \n",
              "8    opportunities                0.353719  \n",
              "9           enable                0.352206  "
            ]
          },
          "execution_count": 45,
          "metadata": {},
          "output_type": "execute_result"
        }
      ],
      "source": [
        "# printing out the words most similar to [\"climate\", \"pandemic\", \"terrorism\", \"future\"]\n",
        "msws_2 = []\n",
        "\n",
        "for woi in words_of_interest:\n",
        "  df_temp = pd.DataFrame(UNGD2vec_2.wv.most_similar(woi, 10), columns=[woi+\"_word\", woi+\"_similarity\"])\n",
        "  msws_2.append(df_temp)\n",
        "\n",
        "df_msws_2 = pd.concat([pd.DataFrame(x) for x in msws_2], axis=1)\n",
        "df_msws_2"
      ]
    },
    {
      "cell_type": "markdown",
      "metadata": {
        "id": "hUADm7rt4_0F"
      },
      "source": [
        "It seems the word embeddings aren't stable. For example, \"change\" is now the second most similar word with \"climate\", \"violence\" became the most similar with \"terrorism\", and \"build\" is the most frequent with \"future\", to show some concrete examples. This is due to the sensitivity of embedding algorithms to sandom seeds (Antoniak and Mimmo, 2018). To eliminate that issue, Antoniak and Mimmo suggest using multiple bootstrap samples and average out the results."
      ]
    },
    {
      "cell_type": "markdown",
      "metadata": {
        "id": "4OqPSLixaYZa"
      },
      "source": [
        "<a name=\"4.3\"></a>\n",
        "## 4.5. Validation"
      ]
    },
    {
      "cell_type": "code",
      "execution_count": null,
      "metadata": {
        "colab": {
          "base_uri": "https://localhost:8080/",
          "height": 35
        },
        "id": "LtpkGW344vxI",
        "outputId": "8c65679c-cdd2-4b6f-d92c-dac39197a719"
      },
      "outputs": [
        {
          "data": {
            "application/vnd.google.colaboratory.intrinsic+json": {
              "type": "string"
            },
            "text/plain": [
              "'environment'"
            ]
          },
          "execution_count": 46,
          "metadata": {},
          "output_type": "execute_result"
        }
      ],
      "source": [
        "UNGD2vec.wv.doesnt_match([\"covid-19\", \"pandemic\", \"disease\", \"vaccine\", \"environment\"])"
      ]
    },
    {
      "cell_type": "code",
      "execution_count": null,
      "metadata": {
        "colab": {
          "base_uri": "https://localhost:8080/",
          "height": 35
        },
        "id": "j15bN558DZSr",
        "outputId": "354fed70-65fb-4ae7-d12e-1891beddc564"
      },
      "outputs": [
        {
          "data": {
            "application/vnd.google.colaboratory.intrinsic+json": {
              "type": "string"
            },
            "text/plain": [
              "'peace'"
            ]
          },
          "execution_count": 47,
          "metadata": {},
          "output_type": "execute_result"
        }
      ],
      "source": [
        "UNGD2vec.wv.doesnt_match([\"peace\", \"forces\", \"aggression\", \"army\", \"russia\"])"
      ]
    },
    {
      "cell_type": "code",
      "execution_count": null,
      "metadata": {
        "colab": {
          "base_uri": "https://localhost:8080/",
          "height": 35
        },
        "id": "TweerctkDzgS",
        "outputId": "4dabd3e1-e3ad-4fa1-9f5f-c5df3a0ddfa8"
      },
      "outputs": [
        {
          "data": {
            "application/vnd.google.colaboratory.intrinsic+json": {
              "type": "string"
            },
            "text/plain": [
              "'botswana'"
            ]
          },
          "execution_count": 48,
          "metadata": {},
          "output_type": "execute_result"
        }
      ],
      "source": [
        "UNGD2vec.wv.doesnt_match([\"botswana\", \"namibia\", \"rwanda\", \"germany\", \"tanzania\"])"
      ]
    },
    {
      "cell_type": "code",
      "execution_count": null,
      "metadata": {
        "colab": {
          "base_uri": "https://localhost:8080/",
          "height": 35
        },
        "id": "ji2pnD2LHNVU",
        "outputId": "f78d90ef-1b28-4879-d283-f8f0536bbd7f"
      },
      "outputs": [
        {
          "data": {
            "application/vnd.google.colaboratory.intrinsic+json": {
              "type": "string"
            },
            "text/plain": [
              "'africa'"
            ]
          },
          "execution_count": 49,
          "metadata": {},
          "output_type": "execute_result"
        }
      ],
      "source": [
        "UNGD2vec.wv.doesnt_match([\"botswana\", \"namibia\", \"rwanda\", \"africa\", \"tanzania\"])"
      ]
    },
    {
      "cell_type": "markdown",
      "metadata": {
        "id": "FuPhGQU5gaIB"
      },
      "source": [
        "It is generally very tricky to validate word embeddings. There are two categories of evaluation we can apply (GRS, Chapter 8, p. 87). We have the option to conduct extrinsic evaluation, in which we can run a machine lerning model with predefined correct answers (Rodriguez and Spirling, 2021, p.10). That would take some time. The other way to evaluate our model is to inspect how well it represents the relationships between words (intrinsic evaluation). For example, we can assess word similarity or perform clustering tasks (GRS, ibid.). Looking at our example above, we see that our model fails to tell Germany apart from countries located in Africa, which implies it failed to understand geographic associations. If we had more time and resources, we would definitely consider conducting a Turing style test (as explained by Rodriguez and Spirling, 2021), in which they assess the performance of the model with human judgement. Due to that, such an evaluation is timely and financially costly, which is why we refrain from it for now."
      ]
    },
    {
      "cell_type": "markdown",
      "metadata": {
        "id": "nt6Gg7Q0ETVm"
      },
      "source": [
        "# References (in addition to the syllabus)\n",
        "- Carlsen, H. B., & Ralund, S. (2022). _Computational grounded theory revisited: From computer-led to computer-assisted text analysis._ Big Data & Society, 9(1), 205395172210801. https://doi.org/10.1177/20539517221080146\n",
        "- Diaz, F., Mitra, B., & Craswell, N. (2016). _Query Expansion with Locally-Trained Word Embeddings_ (arXiv:1605.07891). arXiv. http://arxiv.org/abs/1605.07891\n",
        "- Nanni, F., Glavas, G., Rehbein, I., Ponzetto, S. P., & Stuckenschmidt, H. (2021). _Political Text Scaling Meets Computational Semantics_ (arXiv:1904.06217). arXiv. http://arxiv.org/abs/1904.06217\n",
        "- Thadajarassiri, J., Sen, C., Hartvigsen, T., Kong, X., & Rundensteiner, E. (2019). _Comparing General and Locally-Learned Word Embeddings for Clinical Text Mining._ 2019 IEEE EMBS International Conference on Biomedical & Health Informatics (BHI), 1–4. https://doi.org/10.1109/BHI.2019.8834672"
      ]
    }
  ],
  "metadata": {
    "colab": {
      "provenance": []
    },
    "kernelspec": {
      "display_name": "Python 3",
      "name": "python3"
    },
    "language_info": {
      "name": "python"
    }
  },
  "nbformat": 4,
  "nbformat_minor": 0
}